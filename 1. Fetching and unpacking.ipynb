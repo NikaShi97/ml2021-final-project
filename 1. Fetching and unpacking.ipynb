{
 "cells": [
  {
   "cell_type": "markdown",
   "id": "governmental-attack",
   "metadata": {},
   "source": [
    "Google drive URL: https://drive.google.com/file/d/1MK4tqkjucKpgKeCo72zh0I68TZyKeyfi/view?usp=sharing"
   ]
  },
  {
   "cell_type": "code",
   "execution_count": 1,
   "id": "artistic-niger",
   "metadata": {},
   "outputs": [],
   "source": [
    "import re\n",
    "import os\n",
    "import tarfile\n",
    "import pathlib\n",
    "\n",
    "data = pathlib.Path().absolute() / 'data/'\n",
    "tarball = data / 'tree_species_dataset.tar.gz'\n",
    "\n",
    "file_regex = re.compile('.*\\d\\.txt')\n",
    "\n",
    "if not data.exists():\n",
    "    data.mkdir()\n",
    "    \n",
    "if not tarball.exists():\n",
    "    raise FileNotFoundError('Please download the data from Google Drive and put the tarball into the data/ folder! Thanks :)')"
   ]
  },
  {
   "cell_type": "code",
   "execution_count": 2,
   "id": "creative-language",
   "metadata": {},
   "outputs": [
    {
     "name": "stdout",
     "output_type": "stream",
     "text": [
      "Extracting the dataset...\n",
      "The dataset is extracted and ready for resampling!\n"
     ]
    }
   ],
   "source": [
    "files = [f for f in os.listdir(data) if file_regex.match(f)]\n",
    "\n",
    "needed_files = [\n",
    "    'logging2.txt',\n",
    "    'pine1.txt',\n",
    "    'aspen2.txt',\n",
    "    'aspen1.txt',\n",
    "    'swamps1.txt',\n",
    "    'birch2.txt',\n",
    "    'pine2.txt',\n",
    "    'swamps2.txt',\n",
    "    'spruce1.txt',\n",
    "    'birch1.txt',\n",
    "    'logging1.txt'\n",
    "]\n",
    "\n",
    "needed_sizes = [\n",
    "    32332660,\n",
    "    25416882,\n",
    "    7332717,\n",
    "    201327733,\n",
    "    32444876,\n",
    "    624063855,\n",
    "    795636681,\n",
    "    498537069,\n",
    "    1659834276,\n",
    "    596081955,\n",
    "    119882714\n",
    "]\n",
    "\n",
    "def extract():\n",
    "    \"\"\" Extract the zipped dataset into the data/ folder. \"\"\"\n",
    "    \n",
    "    print('Extracting the dataset...')\n",
    "    with tarfile.open(tarball) as f:\n",
    "        f.extractall(data)\n",
    "\n",
    "\n",
    "if files == needed_files:\n",
    "    sizes = [(data / f).stat().st_size for f in files]\n",
    "    if sizes != needed_sizes:\n",
    "        extract()\n",
    "else:\n",
    "    extract()\n",
    "\n",
    "print('The dataset is extracted and ready for resampling!')"
   ]
  }
 ],
 "metadata": {
  "kernelspec": {
   "display_name": "Python 3",
   "language": "python",
   "name": "python3"
  },
  "language_info": {
   "codemirror_mode": {
    "name": "ipython",
    "version": 3
   },
   "file_extension": ".py",
   "mimetype": "text/x-python",
   "name": "python",
   "nbconvert_exporter": "python",
   "pygments_lexer": "ipython3",
   "version": "3.8.8"
  }
 },
 "nbformat": 4,
 "nbformat_minor": 5
}
