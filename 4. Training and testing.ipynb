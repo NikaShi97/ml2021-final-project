{
 "cells": [
  {
   "cell_type": "markdown",
   "metadata": {
    "id": "Un4Cjl0Ax20X"
   },
   "source": [
    "## Libraries"
   ]
  },
  {
   "cell_type": "code",
   "execution_count": 54,
   "metadata": {
    "id": "y8oAvnFmdyI7"
   },
   "outputs": [
    {
     "name": "stdout",
     "output_type": "stream",
     "text": [
      "The memory_profiler extension is already loaded. To reload it, use:\n",
      "  %reload_ext memory_profiler\n"
     ]
    }
   ],
   "source": [
    "import os\n",
    "import math\n",
    "import copy\n",
    "import time\n",
    "import random\n",
    "import pathlib\n",
    "import numpy as np\n",
    "import pandas as pd\n",
    "import matplotlib.pyplot as plt\n",
    "\n",
    "from sklearn import preprocessing\n",
    "from sklearn.preprocessing import minmax_scale\n",
    "from sklearn.model_selection import train_test_split\n",
    "from sklearn.metrics import accuracy_score, confusion_matrix, classification_report\n",
    "\n",
    "%load_ext memory_profiler\n",
    "\n",
    "np.random.seed(11)"
   ]
  },
  {
   "cell_type": "markdown",
   "metadata": {
    "id": "3J1u8gqex8GU"
   },
   "source": [
    "## Load Data"
   ]
  },
  {
   "cell_type": "code",
   "execution_count": 4,
   "metadata": {
    "id": "UTpSbxHSuMq8"
   },
   "outputs": [],
   "source": [
    "data = pathlib.Path().absolute() / 'data/'\n",
    "images = pathlib.Path().absolute() / 'images/'"
   ]
  },
  {
   "cell_type": "code",
   "execution_count": 6,
   "metadata": {
    "id": "ms4AuWkDMt4B"
   },
   "outputs": [],
   "source": [
    "df = pd.read_csv(data / 'undersampled_shuffled_new_features.csv')"
   ]
  },
  {
   "cell_type": "code",
   "execution_count": 7,
   "metadata": {
    "colab": {
     "base_uri": "https://localhost:8080/",
     "height": 241
    },
    "id": "R4uZls-XeFOn",
    "outputId": "57e3b478-ecae-4501-d1cc-4213c9745f13",
    "scrolled": false
   },
   "outputs": [
    {
     "name": "stdout",
     "output_type": "stream",
     "text": [
      "Shape of the dataset: (6928804, 30)\n"
     ]
    },
    {
     "data": {
      "text/html": [
       "<div>\n",
       "<style scoped>\n",
       "    .dataframe tbody tr th:only-of-type {\n",
       "        vertical-align: middle;\n",
       "    }\n",
       "\n",
       "    .dataframe tbody tr th {\n",
       "        vertical-align: top;\n",
       "    }\n",
       "\n",
       "    .dataframe thead th {\n",
       "        text-align: right;\n",
       "    }\n",
       "</style>\n",
       "<table border=\"1\" class=\"dataframe\">\n",
       "  <thead>\n",
       "    <tr style=\"text-align: right;\">\n",
       "      <th></th>\n",
       "      <th>B1</th>\n",
       "      <th>B2</th>\n",
       "      <th>B3</th>\n",
       "      <th>B4</th>\n",
       "      <th>B5</th>\n",
       "      <th>B6</th>\n",
       "      <th>B7</th>\n",
       "      <th>B8</th>\n",
       "      <th>B9</th>\n",
       "      <th>B11</th>\n",
       "      <th>...</th>\n",
       "      <th>Rededge1</th>\n",
       "      <th>Rededge2</th>\n",
       "      <th>RBNDVI</th>\n",
       "      <th>GRNDVI</th>\n",
       "      <th>GBNDVI</th>\n",
       "      <th>RFDI</th>\n",
       "      <th>S1RVI</th>\n",
       "      <th>Gamma0_VV_db</th>\n",
       "      <th>Gamma0_VH_db</th>\n",
       "      <th>Gamma0_Ratio_db</th>\n",
       "    </tr>\n",
       "  </thead>\n",
       "  <tbody>\n",
       "    <tr>\n",
       "      <th>0</th>\n",
       "      <td>0.0073</td>\n",
       "      <td>0.0145</td>\n",
       "      <td>0.0359</td>\n",
       "      <td>0.0165</td>\n",
       "      <td>0.0609</td>\n",
       "      <td>0.2323</td>\n",
       "      <td>0.2772</td>\n",
       "      <td>0.3118</td>\n",
       "      <td>0.3260</td>\n",
       "      <td>0.1108</td>\n",
       "      <td>...</td>\n",
       "      <td>3.690909</td>\n",
       "      <td>0.573643</td>\n",
       "      <td>0.679474</td>\n",
       "      <td>0.797746</td>\n",
       "      <td>0.824278</td>\n",
       "      <td>0.702810</td>\n",
       "      <td>0.517484</td>\n",
       "      <td>-7.619503</td>\n",
       "      <td>-15.200827</td>\n",
       "      <td>7.581324</td>\n",
       "    </tr>\n",
       "    <tr>\n",
       "      <th>1</th>\n",
       "      <td>0.0097</td>\n",
       "      <td>0.0160</td>\n",
       "      <td>0.0340</td>\n",
       "      <td>0.0185</td>\n",
       "      <td>0.0629</td>\n",
       "      <td>0.2898</td>\n",
       "      <td>0.3669</td>\n",
       "      <td>0.3759</td>\n",
       "      <td>0.3463</td>\n",
       "      <td>0.1453</td>\n",
       "      <td>...</td>\n",
       "      <td>3.400000</td>\n",
       "      <td>0.545455</td>\n",
       "      <td>0.719509</td>\n",
       "      <td>0.837941</td>\n",
       "      <td>0.856176</td>\n",
       "      <td>0.658557</td>\n",
       "      <td>0.583304</td>\n",
       "      <td>-8.158301</td>\n",
       "      <td>-15.022419</td>\n",
       "      <td>6.864117</td>\n",
       "    </tr>\n",
       "    <tr>\n",
       "      <th>2</th>\n",
       "      <td>0.0065</td>\n",
       "      <td>0.0128</td>\n",
       "      <td>0.0248</td>\n",
       "      <td>0.0107</td>\n",
       "      <td>0.0401</td>\n",
       "      <td>0.1531</td>\n",
       "      <td>0.1923</td>\n",
       "      <td>0.2212</td>\n",
       "      <td>0.2715</td>\n",
       "      <td>0.0710</td>\n",
       "      <td>...</td>\n",
       "      <td>3.747664</td>\n",
       "      <td>0.578740</td>\n",
       "      <td>0.700523</td>\n",
       "      <td>0.803564</td>\n",
       "      <td>0.826634</td>\n",
       "      <td>0.653085</td>\n",
       "      <td>0.591270</td>\n",
       "      <td>-8.041386</td>\n",
       "      <td>-14.822110</td>\n",
       "      <td>6.780724</td>\n",
       "    </tr>\n",
       "    <tr>\n",
       "      <th>3</th>\n",
       "      <td>0.0003</td>\n",
       "      <td>0.0097</td>\n",
       "      <td>0.0241</td>\n",
       "      <td>0.0117</td>\n",
       "      <td>0.0456</td>\n",
       "      <td>0.1876</td>\n",
       "      <td>0.2348</td>\n",
       "      <td>0.2470</td>\n",
       "      <td>0.2675</td>\n",
       "      <td>0.0914</td>\n",
       "      <td>...</td>\n",
       "      <td>3.897436</td>\n",
       "      <td>0.591623</td>\n",
       "      <td>0.688631</td>\n",
       "      <td>0.822402</td>\n",
       "      <td>0.847805</td>\n",
       "      <td>0.785082</td>\n",
       "      <td>0.388128</td>\n",
       "      <td>-6.262829</td>\n",
       "      <td>-15.456688</td>\n",
       "      <td>9.193859</td>\n",
       "    </tr>\n",
       "    <tr>\n",
       "      <th>4</th>\n",
       "      <td>0.0047</td>\n",
       "      <td>0.0144</td>\n",
       "      <td>0.0309</td>\n",
       "      <td>0.0134</td>\n",
       "      <td>0.0647</td>\n",
       "      <td>0.1939</td>\n",
       "      <td>0.2355</td>\n",
       "      <td>0.2074</td>\n",
       "      <td>0.2314</td>\n",
       "      <td>0.1060</td>\n",
       "      <td>...</td>\n",
       "      <td>4.828358</td>\n",
       "      <td>0.656850</td>\n",
       "      <td>0.532514</td>\n",
       "      <td>0.745679</td>\n",
       "      <td>0.796040</td>\n",
       "      <td>0.649028</td>\n",
       "      <td>0.597153</td>\n",
       "      <td>-6.294230</td>\n",
       "      <td>-13.013782</td>\n",
       "      <td>6.719552</td>\n",
       "    </tr>\n",
       "  </tbody>\n",
       "</table>\n",
       "<p>5 rows × 30 columns</p>\n",
       "</div>"
      ],
      "text/plain": [
       "       B1      B2      B3      B4      B5      B6      B7      B8      B9  \\\n",
       "0  0.0073  0.0145  0.0359  0.0165  0.0609  0.2323  0.2772  0.3118  0.3260   \n",
       "1  0.0097  0.0160  0.0340  0.0185  0.0629  0.2898  0.3669  0.3759  0.3463   \n",
       "2  0.0065  0.0128  0.0248  0.0107  0.0401  0.1531  0.1923  0.2212  0.2715   \n",
       "3  0.0003  0.0097  0.0241  0.0117  0.0456  0.1876  0.2348  0.2470  0.2675   \n",
       "4  0.0047  0.0144  0.0309  0.0134  0.0647  0.1939  0.2355  0.2074  0.2314   \n",
       "\n",
       "      B11  ...  Rededge1  Rededge2    RBNDVI    GRNDVI    GBNDVI      RFDI  \\\n",
       "0  0.1108  ...  3.690909  0.573643  0.679474  0.797746  0.824278  0.702810   \n",
       "1  0.1453  ...  3.400000  0.545455  0.719509  0.837941  0.856176  0.658557   \n",
       "2  0.0710  ...  3.747664  0.578740  0.700523  0.803564  0.826634  0.653085   \n",
       "3  0.0914  ...  3.897436  0.591623  0.688631  0.822402  0.847805  0.785082   \n",
       "4  0.1060  ...  4.828358  0.656850  0.532514  0.745679  0.796040  0.649028   \n",
       "\n",
       "      S1RVI  Gamma0_VV_db  Gamma0_VH_db  Gamma0_Ratio_db  \n",
       "0  0.517484     -7.619503    -15.200827         7.581324  \n",
       "1  0.583304     -8.158301    -15.022419         6.864117  \n",
       "2  0.591270     -8.041386    -14.822110         6.780724  \n",
       "3  0.388128     -6.262829    -15.456688         9.193859  \n",
       "4  0.597153     -6.294230    -13.013782         6.719552  \n",
       "\n",
       "[5 rows x 30 columns]"
      ]
     },
     "execution_count": 7,
     "metadata": {},
     "output_type": "execute_result"
    }
   ],
   "source": [
    "print(f'Shape of the dataset: {df.shape}')\n",
    "df.head()"
   ]
  },
  {
   "cell_type": "code",
   "execution_count": 8,
   "metadata": {
    "colab": {
     "base_uri": "https://localhost:8080/"
    },
    "id": "AN0sgbc6wqgT",
    "outputId": "b0bab0dd-b55a-49e2-d916-3bf21c7a0948"
   },
   "outputs": [
    {
     "data": {
      "text/plain": [
       "swamps     1216699\n",
       "birch      1216699\n",
       "aspen      1216699\n",
       "pine       1216699\n",
       "spruce     1216699\n",
       "logging     845309\n",
       "Name: Class, dtype: int64"
      ]
     },
     "execution_count": 8,
     "metadata": {},
     "output_type": "execute_result"
    }
   ],
   "source": [
    "df['Class'].value_counts()"
   ]
  },
  {
   "cell_type": "markdown",
   "metadata": {
    "id": "V_gcAL4FyCzT"
   },
   "source": [
    "## Encoding for labels"
   ]
  },
  {
   "cell_type": "code",
   "execution_count": 11,
   "metadata": {
    "colab": {
     "base_uri": "https://localhost:8080/"
    },
    "id": "iKpjOANchOnw",
    "outputId": "fc9418c0-c73e-437e-b102-1d5e310aff1b"
   },
   "outputs": [
    {
     "data": {
      "text/plain": [
       "0    1\n",
       "1    1\n",
       "2    1\n",
       "3    4\n",
       "4    4\n",
       "5    1\n",
       "Name: Class, dtype: int64"
      ]
     },
     "execution_count": 11,
     "metadata": {},
     "output_type": "execute_result"
    }
   ],
   "source": [
    "le = preprocessing.LabelEncoder()\n",
    "df['Class'] = le.fit_transform(df['Class'].astype('str'))\n",
    "df.loc[:5, 'Class']"
   ]
  },
  {
   "cell_type": "code",
   "execution_count": 12,
   "metadata": {
    "colab": {
     "base_uri": "https://localhost:8080/"
    },
    "id": "bpBkpfcjhkpc",
    "outputId": "3c1f90b6-8cb5-4e06-f390-466eafb2e85c"
   },
   "outputs": [
    {
     "name": "stdout",
     "output_type": "stream",
     "text": [
      "New shape of the label dataframe: (6928804, 6)\n"
     ]
    }
   ],
   "source": [
    "##################### Make it more appropriate\n",
    "\n",
    "X = df.drop('Class', axis=1)\n",
    "y = df['Class']\n",
    "\n",
    "X_scaled = minmax_scale(X, axis=0);\n",
    "\n",
    "# one-hot encode the labels\n",
    "yy = np.zeros((y.size, 6))\n",
    "\n",
    "for i in range(y.size):\n",
    "    yy[i, y[i]] = 1\n",
    "\n",
    "y = yy\n",
    "\n",
    "# release memory\n",
    "del yy\n",
    "del X\n",
    "del df\n",
    "\n",
    "print(f'New shape of the label dataframe: {y.shape}')"
   ]
  },
  {
   "cell_type": "markdown",
   "metadata": {
    "id": "aV-adjePzd_M"
   },
   "source": [
    "## Train-Test split:"
   ]
  },
  {
   "cell_type": "code",
   "execution_count": 14,
   "metadata": {
    "colab": {
     "base_uri": "https://localhost:8080/"
    },
    "id": "ll4lTcyThwCb",
    "outputId": "fc1a2a4a-d67f-490f-bcee-117e34285dff"
   },
   "outputs": [
    {
     "name": "stdout",
     "output_type": "stream",
     "text": [
      "X_train: (5543043, 29)\n",
      "y_train: (5543043, 6)\n",
      "X_test: (1385761, 29)\n",
      "y_test: (1385761, 6)\n"
     ]
    }
   ],
   "source": [
    "X_train, X_test, Y_train, Y_test = train_test_split(X_scaled, y,\n",
    "                                                    stratify=y, \n",
    "                                                    test_size=0.20)\n",
    "\n",
    "print(f'X_train: {X_train.shape}\\ny_train: {Y_train.shape}\\nX_test: {X_test.shape}\\ny_test: {Y_test.shape}') "
   ]
  },
  {
   "cell_type": "markdown",
   "metadata": {
    "id": "2DrFoxcf0Cbv"
   },
   "source": [
    "## Model Parts:"
   ]
  },
  {
   "cell_type": "code",
   "execution_count": 27,
   "metadata": {
    "id": "j4bZ4L06lC4Q",
    "jupyter": {
     "source_hidden": true
    },
    "tags": []
   },
   "outputs": [],
   "source": [
    "# Initilizing model weights, bias, etc\n",
    "def initialize_parameters(layers):\n",
    "    new_layers = []\n",
    "    for i, layer in enumerate(layers):\n",
    "        mode = layer['mode']\n",
    "        if mode == 'fc':\n",
    "            n_now = layer['n_now']\n",
    "            n_prev = layer['n_prev']\n",
    "            layer['W']=(np.random.rand(n_now, n_prev) - 0.5) * 0.2\n",
    "            layer['b']=(np.random.rand(n_now,1) - 0.5) * 0.2\n",
    "            layer['W_k']=[np.zeros_like(layer['W'])]\n",
    "            layer['b_k']=[np.zeros_like(layer['b'])]\n",
    "            layer['dW']=np.zeros_like(layer['W'])\n",
    "            layer['db']=np.zeros_like(layer['b'])\n",
    "            layer['IO_dW_k-1']=(np.random.rand(n_now, n_prev) - 0.5) * 0.2\n",
    "            layer['IO_db_k-1']=(np.random.rand(n_now,1) - 0.5) * 0.2\n",
    "        else:\n",
    "            print('Wrong layer in [{}]'.format(i))\n",
    "        new_layers.append(layer)          \n",
    "    return new_layers\n",
    "\n",
    "# Model sub-routines\n",
    "def sigmoid(Z):\n",
    "    A = 1/(1+np.exp(-Z))\n",
    "    cache = Z\n",
    "    return A, cache\n",
    "\n",
    "def sigmoid_backward(dA, cache):\n",
    "    Z = cache\n",
    "    s = 1/(1+np.exp(-Z))\n",
    "    dZ = dA * s * (1-s)\n",
    "    return dZ\n",
    "\n",
    "def relu(Z):\n",
    "    A = np.maximum(0,Z)\n",
    "    cache = Z\n",
    "    return A, cache\n",
    "\n",
    "def relu_backward(dA, cache):\n",
    "    Z = cache\n",
    "    dZ = np.array(dA, copy=True)\n",
    "    dZ[Z < 0] = 0\n",
    "    return dZ\n",
    "\n",
    "def softmax(Z):\n",
    "    n, m = Z.shape\n",
    "    A = np.exp(Z)\n",
    "    A_sum = np.sum(A, axis = 0)\n",
    "    A_sum = A_sum.reshape(-1, m)\n",
    "    A = A / A_sum\n",
    "    cache = Z\n",
    "    return A, cache\n",
    "\n",
    "def softmax_backward(A, Y):\n",
    "    m = A.shape[1]\n",
    "    dZ = (A - Y) / float(m)\n",
    "    return dZ\n",
    "\n",
    "def linear_activation_forward(A_prev, layer, activation='relu'):\n",
    "    W = layer['W']\n",
    "    b = layer['b']\n",
    "    if activation=='sigmoid':\n",
    "        Z, linear_cache=np.dot(W, A_prev)+b, (A_prev, W, b)\n",
    "        A, activation_cache=sigmoid(Z)\n",
    "    elif activation=='relu':\n",
    "        Z, linear_cache=np.dot(W, A_prev)+b, (A_prev, W, b)\n",
    "        A, activation_cache=relu(Z)\n",
    "    else:\n",
    "        Z = np.dot(W, A_prev)+b\n",
    "        A = Z\n",
    "    return A, Z\n",
    "\n",
    "def forward_propogation(X, layers):\n",
    "    m = X.shape[1]\n",
    "    # 1st fully connected layer\n",
    "    layers[0]['A_prev'] = X\n",
    "    A, Z = linear_activation_forward(X, layers[0], activation='relu')\n",
    "    layers[0]['Z'] = Z\n",
    "    \n",
    "    # 2nd fully connected layer\n",
    "    layers[1]['A_prev'] = A\n",
    "    A, Z = linear_activation_forward(A, layers[1], activation='relu')\n",
    "    layers[1]['Z'] = Z\n",
    "\n",
    "    # 3rd fully connected layer\n",
    "    layers[2]['A_prev'] = A\n",
    "    _, Z = linear_activation_forward(A, layers[2], activation='none')\n",
    "    layers[2]['Z'] = Z\n",
    "    AL, _ = softmax(Z)\n",
    "    return AL, layers\n",
    "    \n",
    "def FO_linear_activation_backward(dA, layer, activation, delta=1e-2):\n",
    "    A_prev = layer['A_prev']\n",
    "    W = layer['W']\n",
    "    b = layer['b']\n",
    "    c_W = layer['W_k'][-1]\n",
    "    c_b = layer['b_k'][-1]\n",
    "    Z = layer['Z']\n",
    "    alpha = layer['alpha']\n",
    "    if activation=='relu':\n",
    "        dZ=relu_backward(dA, Z)\n",
    "    elif activation=='sigmoid':\n",
    "        dZ=sigmoid_backward(dA, Z)\n",
    "    else:\n",
    "        dZ = dA\n",
    "    n, m = dA.shape\n",
    "    dA_prev = np.dot(W.T, dZ)\n",
    "    IO_dW = np.dot(dZ, A_prev.T)\n",
    "    IO_db = np.sum(dZ, axis = 1).reshape(n,1)\n",
    "    dW = layer['IO_dW_k-1'] * np.power(np.abs(W-c_W)+delta, 1-alpha) / math.gamma(2-alpha)  \n",
    "    db = layer['IO_db_k-1'] * np.power(np.abs(b-c_b)+delta, 1-alpha) / math.gamma(2-alpha)\n",
    "\n",
    "    return dA_prev, dW, db, IO_dW, IO_db\n",
    "\n",
    "# Cross-entropy Loss for multi-class classification\n",
    "\n",
    "def compute_cost(AL, Y):\n",
    "    n, m = Y.shape\n",
    "    cost = - np.sum(np.log(AL) * Y) / m  # we can also, use square loss\n",
    "    cost=np.squeeze(cost)\n",
    "    return cost\n",
    "\n",
    "# Fractional order back-propagation\n",
    "def FO_backward_propogation(AL, Y, layers):\n",
    "    m = Y.shape[1]\n",
    "    dZ = softmax_backward(AL, Y)\n",
    "    dA_prev, dW, db, IO_dW, IO_db = FO_linear_activation_backward(dZ, layers[2], 'none')\n",
    "    layers[2]['dW'] = dW\n",
    "    layers[2]['db'] = db\n",
    "    layers[2]['IO_dW_k-1'] = IO_dW\n",
    "    layers[2]['IO_db_k-1'] = IO_db\n",
    "    dA_prev, dW, db, IO_dW, IO_db = FO_linear_activation_backward(dA_prev, layers[1], 'relu')\n",
    "    layers[1]['dW'] = dW\n",
    "    layers[1]['db'] = db\n",
    "    layers[1]['IO_dW_k-1'] = IO_dW\n",
    "    layers[1]['IO_db_k-1'] = IO_db\n",
    "    dA_prev, dW, db, IO_dW, IO_db = FO_linear_activation_backward(dA_prev, layers[0], 'relu')\n",
    "    layers[0]['dW'] = dW\n",
    "    layers[0]['db'] = db\n",
    "    layers[0]['IO_dW_k-1'] = IO_dW\n",
    "    layers[0]['IO_db_k-1'] = IO_db\n",
    "    return layers\n",
    "\n",
    "def FO_update_parameters(layers, learning_rate):\n",
    "    num_layer = len(layers)\n",
    "    for i in range(num_layer):\n",
    "        mode = layers[i]['mode']\n",
    "        if (mode == 'fc'):\n",
    "            layers[i]['W_k'][0] = layers[i]['W']\n",
    "            layers[i]['b_k'][0] = layers[i]['b']\n",
    "            layers[i]['W'] = layers[i]['W'] - learning_rate*layers[i]['dW']\n",
    "            layers[i]['b'] = layers[i]['b'] - learning_rate*layers[i]['db']\n",
    "        else:\n",
    "            print('Wrong layer mode in [{}]'.format(i))\n",
    "    return layers\n",
    "\n",
    "# Prediction routine\n",
    "def predict(X_test, Y_test, layers):\n",
    "    m = X_test.shape[1]\n",
    "    n = Y_test.shape[0]\n",
    "    pred = np.zeros((n,m))\n",
    "    pred_count = np.zeros((n,m)) - 1  # for counting accurate predictions \n",
    "    \n",
    "    # forward propagation\n",
    "    AL, _ = forward_propogation(X_test, layers)\n",
    "\n",
    "    # convert prediction to 0/1 form\n",
    "    max_index = np.argmax(AL, axis = 0)\n",
    "    pred[max_index, list(range(m))] = 1\n",
    "    pred_count[max_index, list(range(m))] = 1\n",
    "    \n",
    "    accuracy = float(np.sum(pred_count == Y_test)) / m\n",
    "    return pred, accuracy\n",
    "\n",
    "# Compute accuracy\n",
    "def compute_accuracy(AL, Y):\n",
    "    n, m = Y.shape\n",
    "    pred_count = np.zeros((n,m)) - 1\n",
    "    max_index = np.argmax(AL, axis = 0)\n",
    "    pred_count[max_index, list(range(m))] = 1\n",
    "    accuracy = float(np.sum(pred_count == Y)) / m \n",
    "    return accuracy\n",
    "\n",
    "# Fractional Order Traning \n",
    "def FO_train_mini_batch(X_train, Y_train, X_test, Y_test, layers , batch_size=100, num_epoch=1, learning_rate=0.01, alpha  = 1):\n",
    "    # number of iteration\n",
    "    num_sample = X_train.shape[0]\n",
    "    num_iteration = num_sample // batch_size\n",
    "    index = list(range(num_sample))\n",
    "    accuracy_train_list = []\n",
    "    accuracy_test_list = []\n",
    "    epochLoss = []\n",
    "    print('==============================================================================================================\\n')\n",
    "    print('Fractional order traning for order of gradient = {}'.format(alpha))\n",
    "    print('==============================================================================================================\\n\\n')\n",
    "    for epoch in range(num_epoch):\n",
    "        losses = []\n",
    "        accuracies = []\n",
    "        #random.shuffle(index) # random sampling on every epoch\n",
    "        for iteration in range(num_iteration):\n",
    "            batch_start = iteration * batch_size\n",
    "            batch_end = (iteration + 1) * batch_size\n",
    "            if batch_end > num_sample:\n",
    "                batch_end = num_sample\n",
    "            X_train_batch = (X_train[index[batch_start:batch_end]]).T\n",
    "            Y_train_batch = (Y_train[index[batch_start:batch_end]]).T\n",
    "            AL, layers = forward_propogation(X_train_batch, layers)\n",
    "            loss = compute_cost(AL, Y_train_batch)\n",
    "            accuracy = compute_accuracy(AL, Y_train_batch)\n",
    "            layers = FO_backward_propogation(AL, Y_train_batch, layers)\n",
    "            layers = FO_update_parameters(layers, learning_rate)\n",
    "            losses.append(loss)\n",
    "            accuracies.append(accuracy)\n",
    "            if epoch == 0:\n",
    "                epochLoss.append(loss)\n",
    "            if (iteration + 1) % 5000 == 0:\n",
    "                print('Epoch [{}] Iteration [{}]: loss = {} accuracy = {}'.format(epoch, iteration+1, loss, accuracy))\n",
    "\n",
    "        ypred, accuracy_test = predict(X_test.T, Y_test.T, layers)\n",
    "        pred_train, _ = forward_propogation(X_train[:1385761].T, layers)\n",
    "        loss_train = compute_cost(pred_train, Y_train[:1385761].T)\n",
    "        accuracy_train = compute_accuracy(pred_train, Y_train[:1385761].T)\n",
    "        accuracy_train_list.append(accuracy_train)\n",
    "        accuracy_test_list.append(accuracy_test)\n",
    "        print('Epoch [{}] average_loss = {} average_accuracy = {}'.format(epoch, np.mean(losses), np.mean(accuracies)))\n",
    "        print('Epoch [{}] train_loss = {} train_accuracy = {}'.format(epoch, loss_train, accuracy_train))\n",
    "        print('Epoch [{}] test_accuracy = {}'.format(epoch, accuracy_test))\n",
    "    \n",
    "    return layers, accuracy_train_list, accuracy_test_list, epochLoss, ypred\n",
    "\n",
    "def change_order(layers, order):\n",
    "    layers[0]['alpha'] = order\n",
    "    layers[1]['alpha'] = order\n",
    "    layers[2]['alpha'] = order\n",
    "    return layers"
   ]
  },
  {
   "cell_type": "markdown",
   "metadata": {
    "id": "voE2fH4yzN52"
   },
   "source": [
    "## ANN Architecture"
   ]
  },
  {
   "cell_type": "code",
   "execution_count": 28,
   "metadata": {
    "colab": {
     "base_uri": "https://localhost:8080/"
    },
    "id": "0lqKCTkslor0",
    "outputId": "f4654cb3-cd95-4e39-ff37-a090b4912c7f"
   },
   "outputs": [
    {
     "data": {
      "text/plain": [
       "((5543043, 29), (1385761, 29))"
      ]
     },
     "execution_count": 28,
     "metadata": {},
     "output_type": "execute_result"
    }
   ],
   "source": [
    "# Construct the model with one hidden layer of size: (100, 60)\n",
    "\n",
    "in_size, out_size = X_scaled.shape[1], y.shape[1]\n",
    "\n",
    "layer1={}\n",
    "layer1['mode'] = 'fc'    # fc: Fully connected layers\n",
    "layer1['n_now'] = 100\n",
    "layer1['n_prev'] = in_size\n",
    "layer1['alpha'] = 1\n",
    "layer2={}\n",
    "layer2['mode'] = 'fc'\n",
    "layer2['n_now'] = 60\n",
    "layer2['n_prev'] = 100\n",
    "layer2['alpha'] = 1\n",
    "layer3={}\n",
    "layer3['mode'] = 'fc'\n",
    "layer3['n_now'] = out_size\n",
    "layer3['n_prev'] = 60\n",
    "layer3['alpha'] = 1\n",
    "construct_layers = [layer1, layer2, layer3]\n",
    "\n",
    "X_train.shape, X_test.shape"
   ]
  },
  {
   "cell_type": "markdown",
   "metadata": {
    "id": "7PeqYP3r_aSg"
   },
   "source": [
    "## Create different Models with different order's"
   ]
  },
  {
   "cell_type": "markdown",
   "metadata": {
    "id": "mDfZqJXM_pRI"
   },
   "source": [
    "### Create layers, having  diffrent "
   ]
  },
  {
   "cell_type": "code",
   "execution_count": 29,
   "metadata": {
    "id": "o8hkx9NJmxL0"
   },
   "outputs": [],
   "source": [
    "# Initial layer construction\n",
    "\n",
    "initial_layers = initialize_parameters(construct_layers)\n",
    "\n",
    "# Different orders: 1, 0.9, 1.1, 0.2, 1.7\n",
    "F1_initial_layers = copy.deepcopy(initial_layers)\n",
    "\n",
    "F09_initial_layers = copy.deepcopy(initial_layers)\n",
    "F09_initial_layers = change_order(F09_initial_layers, 0.9)\n",
    "\n",
    "F11_initial_layers = copy.deepcopy(initial_layers)\n",
    "F11_initial_layers = change_order(F09_initial_layers, 1.1)\n",
    "\n",
    "F02_initial_layers = copy.deepcopy(initial_layers)\n",
    "F02_initial_layers = change_order(F02_initial_layers, 0.2)\n",
    "\n",
    "F17_initial_layers = copy.deepcopy(initial_layers)\n",
    "F17_initial_layers = change_order(F17_initial_layers, 1.7)"
   ]
  },
  {
   "cell_type": "markdown",
   "metadata": {
    "id": "IgRGv8iX_0b3"
   },
   "source": [
    "### Model for order :  1"
   ]
  },
  {
   "cell_type": "code",
   "execution_count": 30,
   "metadata": {
    "colab": {
     "base_uri": "https://localhost:8080/"
    },
    "id": "c9SztwV5-iIL",
    "outputId": "aa343649-d234-4272-feeb-3bfd67ef6ec3",
    "scrolled": false
   },
   "outputs": [
    {
     "name": "stdout",
     "output_type": "stream",
     "text": [
      "==============================================================================================================\n",
      "\n",
      "Fractional order traning for order of gradient = 1\n",
      "==============================================================================================================\n",
      "\n",
      "\n",
      "Epoch [0] Iteration [5000]: loss = 0.8700529406610462 accuracy = 0.685\n",
      "Epoch [0] Iteration [10000]: loss = 0.7839395335189744 accuracy = 0.66\n",
      "Epoch [0] Iteration [15000]: loss = 0.7377090351954132 accuracy = 0.715\n",
      "Epoch [0] Iteration [20000]: loss = 0.7759762707269148 accuracy = 0.685\n",
      "Epoch [0] Iteration [25000]: loss = 0.725485822716986 accuracy = 0.725\n",
      "Epoch [0] average_loss = 0.824275795115431 average_accuracy = 0.6771019303626195\n",
      "Epoch [0] train_loss = 0.7349879712292965 train_accuracy = 0.6950982167920731\n",
      "Epoch [0] test_accuracy = 0.6948903887466886\n",
      "Epoch [1] Iteration [5000]: loss = 0.6321667358936923 accuracy = 0.775\n",
      "Epoch [1] Iteration [10000]: loss = 0.6421145005182898 accuracy = 0.75\n",
      "Epoch [1] Iteration [15000]: loss = 0.6370868532015531 accuracy = 0.73\n",
      "Epoch [1] Iteration [20000]: loss = 0.678994859839537 accuracy = 0.715\n",
      "Epoch [1] Iteration [25000]: loss = 0.6935737018535457 accuracy = 0.73\n",
      "Epoch [1] average_loss = 0.640916702547903 average_accuracy = 0.75056467616814\n",
      "Epoch [1] train_loss = 0.6543618835102897 train_accuracy = 0.7402033972669169\n",
      "Epoch [1] test_accuracy = 0.7404350389425016\n",
      "Epoch [2] Iteration [5000]: loss = 0.5782525764180236 accuracy = 0.795\n",
      "Epoch [2] Iteration [10000]: loss = 0.5853095097378836 accuracy = 0.77\n",
      "Epoch [2] Iteration [15000]: loss = 0.5763891180855638 accuracy = 0.775\n",
      "Epoch [2] Iteration [20000]: loss = 0.6378616902214072 accuracy = 0.73\n",
      "Epoch [2] Iteration [25000]: loss = 0.6648942497183268 accuracy = 0.755\n",
      "Epoch [2] average_loss = 0.595604545345176 average_accuracy = 0.7694295507847735\n",
      "Epoch [2] train_loss = 0.6050687284167996 train_accuracy = 0.762908611225168\n",
      "Epoch [2] test_accuracy = 0.7632037559146202\n",
      "Epoch [3] Iteration [5000]: loss = 0.539923740664131 accuracy = 0.83\n",
      "Epoch [3] Iteration [10000]: loss = 0.5538180008906496 accuracy = 0.78\n",
      "Epoch [3] Iteration [15000]: loss = 0.5513744162424656 accuracy = 0.78\n",
      "Epoch [3] Iteration [20000]: loss = 0.6048588282539201 accuracy = 0.765\n",
      "Epoch [3] Iteration [25000]: loss = 0.6752058961965173 accuracy = 0.745\n",
      "Epoch [3] average_loss = 0.5682596515042878 average_accuracy = 0.7799944073606351\n",
      "Epoch [3] train_loss = 0.5702927202644452 train_accuracy = 0.778834156827909\n",
      "Epoch [3] test_accuracy = 0.7786970480479679\n",
      "Epoch [4] Iteration [5000]: loss = 0.5253729775319738 accuracy = 0.835\n",
      "Epoch [4] Iteration [10000]: loss = 0.5359173381708404 accuracy = 0.785\n",
      "Epoch [4] Iteration [15000]: loss = 0.5268772138140035 accuracy = 0.795\n",
      "Epoch [4] Iteration [20000]: loss = 0.5987013402834058 accuracy = 0.785\n",
      "Epoch [4] Iteration [25000]: loss = 0.6644842125177282 accuracy = 0.74\n",
      "Epoch [4] average_loss = 0.5482227881643861 average_accuracy = 0.7879664441638102\n",
      "Epoch [4] train_loss = 0.538647171097054 train_accuracy = 0.7926157540874653\n",
      "Epoch [4] test_accuracy = 0.7922376225048908\n",
      "Epoch [5] Iteration [5000]: loss = 0.5177557414036486 accuracy = 0.83\n",
      "Epoch [5] Iteration [10000]: loss = 0.5405529570123444 accuracy = 0.77\n",
      "Epoch [5] Iteration [15000]: loss = 0.5188227186141562 accuracy = 0.8\n",
      "Epoch [5] Iteration [20000]: loss = 0.5726628132595765 accuracy = 0.805\n",
      "Epoch [5] Iteration [25000]: loss = 0.6541962825036418 accuracy = 0.755\n",
      "Epoch [5] average_loss = 0.5323055137404059 average_accuracy = 0.7943793974382104\n",
      "Epoch [5] train_loss = 0.5206673041987492 train_accuracy = 0.8008971243959095\n",
      "Epoch [5] test_accuracy = 0.800322710770472\n",
      "Epoch [6] Iteration [5000]: loss = 0.4941446334622573 accuracy = 0.84\n",
      "Epoch [6] Iteration [10000]: loss = 0.5338204781767786 accuracy = 0.78\n",
      "Epoch [6] Iteration [15000]: loss = 0.4896116851063207 accuracy = 0.83\n",
      "Epoch [6] Iteration [20000]: loss = 0.5617834788259995 accuracy = 0.8\n",
      "Epoch [6] Iteration [25000]: loss = 0.6437656802430101 accuracy = 0.755\n",
      "Epoch [6] average_loss = 0.5194523981609838 average_accuracy = 0.799721270070359\n",
      "Epoch [6] train_loss = 0.510086387211061 train_accuracy = 0.8057327345768859\n",
      "Epoch [6] test_accuracy = 0.8054830522723615\n",
      "Epoch [7] Iteration [5000]: loss = 0.47980229446759254 accuracy = 0.84\n",
      "Epoch [7] Iteration [10000]: loss = 0.5197285408433162 accuracy = 0.79\n",
      "Epoch [7] Iteration [15000]: loss = 0.47152271489430375 accuracy = 0.835\n",
      "Epoch [7] Iteration [20000]: loss = 0.5512796914206968 accuracy = 0.81\n",
      "Epoch [7] Iteration [25000]: loss = 0.650578677477408 accuracy = 0.75\n",
      "Epoch [7] average_loss = 0.509384004950144 average_accuracy = 0.8040505141620061\n",
      "Epoch [7] train_loss = 0.5004310149185686 train_accuracy = 0.8097139405712818\n",
      "Epoch [7] test_accuracy = 0.8093192116100828\n",
      "Epoch [8] Iteration [5000]: loss = 0.46774803400554676 accuracy = 0.86\n",
      "Epoch [8] Iteration [10000]: loss = 0.5100862965881402 accuracy = 0.785\n",
      "Epoch [8] Iteration [15000]: loss = 0.4672217439314706 accuracy = 0.84\n",
      "Epoch [8] Iteration [20000]: loss = 0.5379523527449017 accuracy = 0.81\n",
      "Epoch [8] Iteration [25000]: loss = 0.6353896801884124 accuracy = 0.77\n",
      "Epoch [8] average_loss = 0.5015656395759927 average_accuracy = 0.8071100487100846\n",
      "Epoch [8] train_loss = 0.4989699589090468 train_accuracy = 0.8094938448982184\n",
      "Epoch [8] test_accuracy = 0.8090897348099708\n",
      "Epoch [9] Iteration [5000]: loss = 0.4621616443185139 accuracy = 0.845\n",
      "Epoch [9] Iteration [10000]: loss = 0.4996943991733302 accuracy = 0.8\n",
      "Epoch [9] Iteration [15000]: loss = 0.46056494915141744 accuracy = 0.845\n",
      "Epoch [9] Iteration [20000]: loss = 0.526078913126281 accuracy = 0.82\n",
      "Epoch [9] Iteration [25000]: loss = 0.6214233475158162 accuracy = 0.78\n",
      "Epoch [9] average_loss = 0.49519826690491614 average_accuracy = 0.8096442359732997\n",
      "Epoch [9] train_loss = 0.4864091710841903 train_accuracy = 0.8148006763070977\n",
      "Epoch [9] test_accuracy = 0.8143619282112861\n",
      "Epoch [10] Iteration [5000]: loss = 0.4594111605208902 accuracy = 0.84\n",
      "Epoch [10] Iteration [10000]: loss = 0.5060613507775273 accuracy = 0.785\n",
      "Epoch [10] Iteration [15000]: loss = 0.45395230413880017 accuracy = 0.83\n",
      "Epoch [10] Iteration [20000]: loss = 0.5243442429883846 accuracy = 0.82\n",
      "Epoch [10] Iteration [25000]: loss = 0.6239242681185343 accuracy = 0.78\n",
      "Epoch [10] average_loss = 0.48968743292137157 average_accuracy = 0.8117180227313728\n",
      "Epoch [10] train_loss = 0.48013858448250246 train_accuracy = 0.8167266938526918\n",
      "Epoch [10] test_accuracy = 0.8163009350097167\n",
      "Epoch [11] Iteration [5000]: loss = 0.45691488360235666 accuracy = 0.84\n",
      "Epoch [11] Iteration [10000]: loss = 0.4936764619667427 accuracy = 0.8\n",
      "Epoch [11] Iteration [15000]: loss = 0.4458240144648187 accuracy = 0.825\n",
      "Epoch [11] Iteration [20000]: loss = 0.5202215759002076 accuracy = 0.81\n",
      "Epoch [11] Iteration [25000]: loss = 0.6101286751693682 accuracy = 0.78\n",
      "Epoch [11] average_loss = 0.484966424330135 average_accuracy = 0.8134643694750135\n",
      "Epoch [11] train_loss = 0.473079150270436 train_accuracy = 0.8193663986791373\n",
      "Epoch [11] test_accuracy = 0.8190423889833817\n",
      "Epoch [12] Iteration [5000]: loss = 0.4599879361833055 accuracy = 0.85\n",
      "Epoch [12] Iteration [10000]: loss = 0.48503307816710506 accuracy = 0.8\n",
      "Epoch [12] Iteration [15000]: loss = 0.4423989804277558 accuracy = 0.825\n",
      "Epoch [12] Iteration [20000]: loss = 0.5195907112290444 accuracy = 0.805\n",
      "Epoch [12] Iteration [25000]: loss = 0.6259311090006715 accuracy = 0.775\n",
      "Epoch [12] average_loss = 0.4807129672479913 average_accuracy = 0.8150515966083348\n",
      "Epoch [12] train_loss = 0.470231106253082 train_accuracy = 0.820103899590189\n",
      "Epoch [12] test_accuracy = 0.8198426712831434\n",
      "Epoch [13] Iteration [5000]: loss = 0.45844215789514564 accuracy = 0.855\n",
      "Epoch [13] Iteration [10000]: loss = 0.4857326215328343 accuracy = 0.79\n",
      "Epoch [13] Iteration [15000]: loss = 0.4411969505359235 accuracy = 0.82\n",
      "Epoch [13] Iteration [20000]: loss = 0.5111787396636713 accuracy = 0.805\n",
      "Epoch [13] Iteration [25000]: loss = 0.6202882382535845 accuracy = 0.78\n",
      "Epoch [13] average_loss = 0.47688930558863446 average_accuracy = 0.8163539599494858\n",
      "Epoch [13] train_loss = 0.46873188057740217 train_accuracy = 0.8202475029965485\n",
      "Epoch [13] test_accuracy = 0.8198210225284158\n",
      "Epoch [14] Iteration [5000]: loss = 0.4598007783219804 accuracy = 0.85\n"
     ]
    },
    {
     "name": "stdout",
     "output_type": "stream",
     "text": [
      "Epoch [14] Iteration [10000]: loss = 0.4857324752375791 accuracy = 0.795\n",
      "Epoch [14] Iteration [15000]: loss = 0.436570678839944 accuracy = 0.83\n",
      "Epoch [14] Iteration [20000]: loss = 0.5117068414378844 accuracy = 0.805\n",
      "Epoch [14] Iteration [25000]: loss = 0.605261362866805 accuracy = 0.785\n",
      "Epoch [14] average_loss = 0.47332210049104906 average_accuracy = 0.817577485116363\n",
      "Epoch [14] train_loss = 0.4689180691901329 train_accuracy = 0.8196579352428016\n",
      "Epoch [14] test_accuracy = 0.8190806351167337\n",
      "Epoch [15] Iteration [5000]: loss = 0.46185429524601596 accuracy = 0.845\n",
      "Epoch [15] Iteration [10000]: loss = 0.4770169549253393 accuracy = 0.795\n",
      "Epoch [15] Iteration [15000]: loss = 0.4372976339249904 accuracy = 0.825\n",
      "Epoch [15] Iteration [20000]: loss = 0.5061524519191121 accuracy = 0.81\n",
      "Epoch [15] Iteration [25000]: loss = 0.6015744354060582 accuracy = 0.78\n",
      "Epoch [15] average_loss = 0.47012115693623036 average_accuracy = 0.8186698538697456\n",
      "Epoch [15] train_loss = 0.46596708882432 train_accuracy = 0.8208644925062836\n",
      "Epoch [15] test_accuracy = 0.8204336822872054\n",
      "Epoch [16] Iteration [5000]: loss = 0.45532979895930464 accuracy = 0.845\n",
      "Epoch [16] Iteration [10000]: loss = 0.47152732766014877 accuracy = 0.795\n",
      "Epoch [16] Iteration [15000]: loss = 0.43646271454488067 accuracy = 0.825\n",
      "Epoch [16] Iteration [20000]: loss = 0.5015949460455207 accuracy = 0.81\n",
      "Epoch [16] Iteration [25000]: loss = 0.6073146640458855 accuracy = 0.79\n",
      "Epoch [16] average_loss = 0.4670651680476776 average_accuracy = 0.8196828432256902\n",
      "Epoch [16] train_loss = 0.4651825720602531 train_accuracy = 0.82094026314783\n",
      "Epoch [16] test_accuracy = 0.8203146141362039\n",
      "Epoch [17] Iteration [5000]: loss = 0.4513671371389232 accuracy = 0.84\n",
      "Epoch [17] Iteration [10000]: loss = 0.4552060147499483 accuracy = 0.815\n",
      "Epoch [17] Iteration [15000]: loss = 0.4369973284122566 accuracy = 0.82\n",
      "Epoch [17] Iteration [20000]: loss = 0.4992399319210146 accuracy = 0.805\n",
      "Epoch [17] Iteration [25000]: loss = 0.5986654223700087 accuracy = 0.785\n",
      "Epoch [17] average_loss = 0.46413411920019176 average_accuracy = 0.8207403932888327\n",
      "Epoch [17] train_loss = 0.4630050122651126 train_accuracy = 0.8213999383732116\n",
      "Epoch [17] test_accuracy = 0.8208565546295501\n",
      "Epoch [18] Iteration [5000]: loss = 0.44599887521473064 accuracy = 0.84\n",
      "Epoch [18] Iteration [10000]: loss = 0.44714910053984097 accuracy = 0.815\n",
      "Epoch [18] Iteration [15000]: loss = 0.4347129092020111 accuracy = 0.83\n",
      "Epoch [18] Iteration [20000]: loss = 0.4925021542849872 accuracy = 0.815\n",
      "Epoch [18] Iteration [25000]: loss = 0.6095854130888888 accuracy = 0.79\n",
      "Epoch [18] average_loss = 0.46145950000071995 average_accuracy = 0.8216702146851885\n",
      "Epoch [18] train_loss = 0.4604939225262814 train_accuracy = 0.8224470164768672\n",
      "Epoch [18] test_accuracy = 0.8218516757218597\n",
      "Epoch [19] Iteration [5000]: loss = 0.4451177029782617 accuracy = 0.845\n",
      "Epoch [19] Iteration [10000]: loss = 0.4405586371827335 accuracy = 0.825\n",
      "Epoch [19] Iteration [15000]: loss = 0.4330216920242128 accuracy = 0.835\n",
      "Epoch [19] Iteration [20000]: loss = 0.4879632981215893 accuracy = 0.815\n",
      "Epoch [19] Iteration [25000]: loss = 0.6135529135154131 accuracy = 0.785\n",
      "Epoch [19] average_loss = 0.45894750257160005 average_accuracy = 0.8226052679054663\n",
      "Epoch [19] train_loss = 0.4575956071928322 train_accuracy = 0.8234240969402372\n",
      "Epoch [19] test_accuracy = 0.8226310308920514\n",
      "Epoch [20] Iteration [5000]: loss = 0.4411760251151337 accuracy = 0.85\n",
      "Epoch [20] Iteration [10000]: loss = 0.43312655293091157 accuracy = 0.83\n",
      "Epoch [20] Iteration [15000]: loss = 0.42897832739443303 accuracy = 0.83\n",
      "Epoch [20] Iteration [20000]: loss = 0.4887659889401709 accuracy = 0.815\n",
      "Epoch [20] Iteration [25000]: loss = 0.6062580727753641 accuracy = 0.785\n",
      "Epoch [20] average_loss = 0.4566443441783393 average_accuracy = 0.8234250405917374\n",
      "Epoch [20] train_loss = 0.4545846017479069 train_accuracy = 0.8247071464704231\n",
      "Epoch [20] test_accuracy = 0.8240822190839546\n",
      "Epoch [21] Iteration [5000]: loss = 0.4433676717027097 accuracy = 0.85\n",
      "Epoch [21] Iteration [10000]: loss = 0.4277222756138271 accuracy = 0.83\n",
      "Epoch [21] Iteration [15000]: loss = 0.4265552796059908 accuracy = 0.835\n",
      "Epoch [21] Iteration [20000]: loss = 0.48509019814022786 accuracy = 0.815\n",
      "Epoch [21] Iteration [25000]: loss = 0.6094736769092866 accuracy = 0.795\n",
      "Epoch [21] average_loss = 0.454471083331015 average_accuracy = 0.8241924950387878\n",
      "Epoch [21] train_loss = 0.45392982154180656 train_accuracy = 0.8248586877535159\n",
      "Epoch [21] test_accuracy = 0.8243650961457278\n",
      "Epoch [22] Iteration [5000]: loss = 0.4435849986076512 accuracy = 0.86\n",
      "Epoch [22] Iteration [10000]: loss = 0.42294281368713177 accuracy = 0.84\n",
      "Epoch [22] Iteration [15000]: loss = 0.42450426323218066 accuracy = 0.83\n",
      "Epoch [22] Iteration [20000]: loss = 0.47688931853097427 accuracy = 0.815\n",
      "Epoch [22] Iteration [25000]: loss = 0.6081753912304307 accuracy = 0.79\n",
      "Epoch [22] average_loss = 0.45245329930154626 average_accuracy = 0.824853328522461\n",
      "Epoch [22] train_loss = 0.45219563745144375 train_accuracy = 0.8252534167147149\n",
      "Epoch [22] test_accuracy = 0.8247259087245203\n",
      "Epoch [23] Iteration [5000]: loss = 0.43962257943218047 accuracy = 0.86\n",
      "Epoch [23] Iteration [10000]: loss = 0.42105104942196275 accuracy = 0.845\n",
      "Epoch [23] Iteration [15000]: loss = 0.4221856894829047 accuracy = 0.83\n",
      "Epoch [23] Iteration [20000]: loss = 0.47714287392118193 accuracy = 0.815\n",
      "Epoch [23] Iteration [25000]: loss = 0.6048119727777197 accuracy = 0.8\n",
      "Epoch [23] average_loss = 0.45052512149206175 average_accuracy = 0.8255493415118167\n",
      "Epoch [23] train_loss = 0.44886949953452865 train_accuracy = 0.8266165666373927\n",
      "Epoch [23] test_accuracy = 0.8260190610069125\n",
      "Epoch [24] Iteration [5000]: loss = 0.4410019532992201 accuracy = 0.86\n",
      "Epoch [24] Iteration [10000]: loss = 0.42692932689334306 accuracy = 0.835\n",
      "Epoch [24] Iteration [15000]: loss = 0.42311036588344775 accuracy = 0.825\n",
      "Epoch [24] Iteration [20000]: loss = 0.46974471222491654 accuracy = 0.825\n",
      "Epoch [24] Iteration [25000]: loss = 0.6013345244321665 accuracy = 0.79\n",
      "Epoch [24] average_loss = 0.44880153698676795 average_accuracy = 0.8261340429370378\n",
      "Epoch [24] train_loss = 0.45005178988815786 train_accuracy = 0.8259295794873719\n",
      "Epoch [24] test_accuracy = 0.825602683290986\n",
      "peak memory: 11160.21 MiB, increment: 2491.38 MiB\n",
      "time : 915.6047878265381 seconds\n"
     ]
    }
   ],
   "source": [
    "# Traning for order 1\n",
    "time0 = time.time()\n",
    "\n",
    "%memit layers, train_acc1, test_acc1, epochLoss1, ypred1  = FO_train_mini_batch(X_train, Y_train, X_test, Y_test, F1_initial_layers, batch_size=200, num_epoch=25, learning_rate=0.023, alpha =1)\n",
    "\n",
    "time1 = time.time() - time0\n",
    "\n",
    "print('time : {} seconds'.format(time1))"
   ]
  },
  {
   "cell_type": "code",
   "execution_count": 35,
   "metadata": {
    "colab": {
     "base_uri": "https://localhost:8080/",
     "height": 295
    },
    "id": "bKQXM_UGuMrw",
    "outputId": "60e25752-2f4c-41d2-ddfb-2597bbe3fc67"
   },
   "outputs": [
    {
     "data": {
      "image/png": "[encoded data removed]",
      "text/plain": [
       "<Figure size 1152x648 with 1 Axes>"
      ]
     },
     "metadata": {
      "needs_background": "light"
     },
     "output_type": "display_data"
    }
   ],
   "source": [
    "fig, ax = plt.subplots(figsize=(16, 9))\n",
    "\n",
    "ax.plot(np.arange(len(train_acc1)), train_acc1, label='Training accuracy')\n",
    "ax.plot(np.arange(len(train_acc1)), test_acc1, label='Test accuracy')\n",
    "\n",
    "ax.set_title('For gradient of order: 1')\n",
    "ax.set_xlabel('epoEchs')\n",
    "ax.set_ylabel('Accuracies')\n",
    "\n",
    "ax.legend(fontsize=20)\n",
    "ax.grid()\n",
    "\n",
    "fig.savefig(images / 'accuracy_order1.0.svg')"
   ]
  },
  {
   "cell_type": "markdown",
   "metadata": {
    "id": "OCw5l6C3_7pm"
   },
   "source": [
    "### Model with order : 0.9"
   ]
  },
  {
   "cell_type": "code",
   "execution_count": 36,
   "metadata": {
    "colab": {
     "base_uri": "https://localhost:8080/"
    },
    "id": "BjaxvUHQWmOB",
    "outputId": "3958a2d7-ee5f-464c-ee6e-34fdc06caf85"
   },
   "outputs": [
    {
     "name": "stdout",
     "output_type": "stream",
     "text": [
      "==============================================================================================================\n",
      "\n",
      "Fractional order traning for order of gradient = 0.9\n",
      "==============================================================================================================\n",
      "\n",
      "\n",
      "Epoch [0] Iteration [5000]: loss = 0.849866772653221 accuracy = 0.695\n",
      "Epoch [0] Iteration [10000]: loss = 0.7297738533800122 accuracy = 0.695\n",
      "Epoch [0] Iteration [15000]: loss = 0.70246839327577 accuracy = 0.735\n",
      "Epoch [0] Iteration [20000]: loss = 0.7483811748163345 accuracy = 0.69\n",
      "Epoch [0] Iteration [25000]: loss = 0.7296959455939365 accuracy = 0.73\n",
      "Epoch [0] average_loss = 0.781901974167536 average_accuracy = 0.691098502615912\n",
      "Epoch [0] train_loss = 0.712656292901504 train_accuracy = 0.7054997218135017\n",
      "Epoch [0] test_accuracy = 0.705532194945593\n",
      "Epoch [1] Iteration [5000]: loss = 0.6299508183281854 accuracy = 0.795\n",
      "Epoch [1] Iteration [10000]: loss = 0.6256617773348981 accuracy = 0.77\n",
      "Epoch [1] Iteration [15000]: loss = 0.6066404839743644 accuracy = 0.765\n",
      "Epoch [1] Iteration [20000]: loss = 0.6706511764681933 accuracy = 0.705\n",
      "Epoch [1] Iteration [25000]: loss = 0.6922445695430723 accuracy = 0.74\n",
      "Epoch [1] average_loss = 0.6213179066248131 average_accuracy = 0.7581547898250046\n",
      "Epoch [1] train_loss = 0.6266734766170108 train_accuracy = 0.7516021882561279\n",
      "Epoch [1] test_accuracy = 0.7515574474963576\n",
      "Epoch [2] Iteration [5000]: loss = 0.5647925532393749 accuracy = 0.81\n",
      "Epoch [2] Iteration [10000]: loss = 0.5709361392324717 accuracy = 0.74\n",
      "Epoch [2] Iteration [15000]: loss = 0.5656469896866269 accuracy = 0.77\n",
      "Epoch [2] Iteration [20000]: loss = 0.6227663148709426 accuracy = 0.75\n",
      "Epoch [2] Iteration [25000]: loss = 0.7127715012912941 accuracy = 0.72\n",
      "Epoch [2] average_loss = 0.5774291586758141 average_accuracy = 0.7760645859642792\n",
      "Epoch [2] train_loss = 0.5711607484150255 train_accuracy = 0.7778043977280353\n",
      "Epoch [2] test_accuracy = 0.7776680105732519\n",
      "Epoch [3] Iteration [5000]: loss = 0.542001598298114 accuracy = 0.825\n",
      "Epoch [3] Iteration [10000]: loss = 0.5494013697889549 accuracy = 0.765\n",
      "Epoch [3] Iteration [15000]: loss = 0.5207097644888463 accuracy = 0.815\n",
      "Epoch [3] Iteration [20000]: loss = 0.5999960396519981 accuracy = 0.77\n",
      "Epoch [3] Iteration [25000]: loss = 0.7112902448905988 accuracy = 0.72\n",
      "Epoch [3] average_loss = 0.5506063171326573 average_accuracy = 0.7864674364062781\n",
      "Epoch [3] train_loss = 0.5385071364330587 train_accuracy = 0.7919042316820866\n",
      "Epoch [3] test_accuracy = 0.7913658993145283\n",
      "Epoch [4] Iteration [5000]: loss = 0.5299044169726537 accuracy = 0.825\n",
      "Epoch [4] Iteration [10000]: loss = 0.5653436970478974 accuracy = 0.755\n",
      "Epoch [4] Iteration [15000]: loss = 0.5107707595183244 accuracy = 0.785\n",
      "Epoch [4] Iteration [20000]: loss = 0.5792666039208448 accuracy = 0.785\n",
      "Epoch [4] Iteration [25000]: loss = 0.6772672832982554 accuracy = 0.735\n",
      "Epoch [4] average_loss = 0.5324614144280859 average_accuracy = 0.7936691322388598\n",
      "Epoch [4] train_loss = 0.516233722875036 train_accuracy = 0.8010566035557358\n",
      "Epoch [4] test_accuracy = 0.8005529091957415\n",
      "Epoch [5] Iteration [5000]: loss = 0.5243432385390512 accuracy = 0.84\n",
      "Epoch [5] Iteration [10000]: loss = 0.562547935167823 accuracy = 0.75\n",
      "Epoch [5] Iteration [15000]: loss = 0.48508144938222175 accuracy = 0.81\n",
      "Epoch [5] Iteration [20000]: loss = 0.5543941581734555 accuracy = 0.805\n",
      "Epoch [5] Iteration [25000]: loss = 0.6699310928236701 accuracy = 0.765\n",
      "Epoch [5] average_loss = 0.5188333880176054 average_accuracy = 0.7991351253833665\n",
      "Epoch [5] train_loss = 0.5039980144319993 train_accuracy = 0.8062595209419229\n",
      "Epoch [5] test_accuracy = 0.8054123330069182\n",
      "Epoch [6] Iteration [5000]: loss = 0.512386828978958 accuracy = 0.835\n",
      "Epoch [6] Iteration [10000]: loss = 0.5186168905141222 accuracy = 0.77\n",
      "Epoch [6] Iteration [15000]: loss = 0.4718930369520669 accuracy = 0.8\n",
      "Epoch [6] Iteration [20000]: loss = 0.5373976193998827 accuracy = 0.825\n",
      "Epoch [6] Iteration [25000]: loss = 0.6619554094460967 accuracy = 0.77\n",
      "Epoch [6] average_loss = 0.5075541884836877 average_accuracy = 0.8035094714053761\n",
      "Epoch [6] train_loss = 0.49596121902422813 train_accuracy = 0.8086690273430989\n",
      "Epoch [6] test_accuracy = 0.8080318323289514\n",
      "Epoch [7] Iteration [5000]: loss = 0.4929623325424086 accuracy = 0.84\n",
      "Epoch [7] Iteration [10000]: loss = 0.5081288426218579 accuracy = 0.79\n",
      "Epoch [7] Iteration [15000]: loss = 0.45529149712863815 accuracy = 0.81\n",
      "Epoch [7] Iteration [20000]: loss = 0.5288532387261515 accuracy = 0.815\n",
      "Epoch [7] Iteration [25000]: loss = 0.6719790097310268 accuracy = 0.75\n",
      "Epoch [7] average_loss = 0.4982640683552945 average_accuracy = 0.8071699440736063\n",
      "Epoch [7] train_loss = 0.4889816019159758 train_accuracy = 0.8112784239129258\n",
      "Epoch [7] test_accuracy = 0.8106203017692084\n",
      "Epoch [8] Iteration [5000]: loss = 0.47760666703670596 accuracy = 0.84\n",
      "Epoch [8] Iteration [10000]: loss = 0.49134302729441165 accuracy = 0.785\n",
      "Epoch [8] Iteration [15000]: loss = 0.44686778217725787 accuracy = 0.81\n",
      "Epoch [8] Iteration [20000]: loss = 0.5241494149823304 accuracy = 0.815\n",
      "Epoch [8] Iteration [25000]: loss = 0.6528658371705857 accuracy = 0.755\n",
      "Epoch [8] average_loss = 0.49025069237519814 average_accuracy = 0.8103835468158037\n",
      "Epoch [8] train_loss = 0.48319143575015266 train_accuracy = 0.814506253242803\n",
      "Epoch [8] test_accuracy = 0.813851017599716\n",
      "Epoch [9] Iteration [5000]: loss = 0.46345571372450634 accuracy = 0.86\n",
      "Epoch [9] Iteration [10000]: loss = 0.47919644891415614 accuracy = 0.79\n",
      "Epoch [9] Iteration [15000]: loss = 0.4430430215222443 accuracy = 0.815\n",
      "Epoch [9] Iteration [20000]: loss = 0.5163134805551189 accuracy = 0.81\n",
      "Epoch [9] Iteration [25000]: loss = 0.6537005462020948 accuracy = 0.755\n",
      "Epoch [9] average_loss = 0.48334272911819975 average_accuracy = 0.8132108966263757\n",
      "Epoch [9] train_loss = 0.4778005897504348 train_accuracy = 0.8162453698725827\n",
      "Epoch [9] test_accuracy = 0.8159134223000936\n",
      "Epoch [10] Iteration [5000]: loss = 0.44787749028597984 accuracy = 0.855\n",
      "Epoch [10] Iteration [10000]: loss = 0.4750965100475871 accuracy = 0.795\n",
      "Epoch [10] Iteration [15000]: loss = 0.4362474446820257 accuracy = 0.825\n",
      "Epoch [10] Iteration [20000]: loss = 0.5166064177410461 accuracy = 0.82\n",
      "Epoch [10] Iteration [25000]: loss = 0.6471019022114226 accuracy = 0.765\n",
      "Epoch [10] average_loss = 0.4773034001765473 average_accuracy = 0.8154946779722171\n",
      "Epoch [10] train_loss = 0.47629199652518656 train_accuracy = 0.8167901968665593\n",
      "Epoch [10] test_accuracy = 0.816783702240141\n",
      "Epoch [11] Iteration [5000]: loss = 0.44085137779176864 accuracy = 0.86\n",
      "Epoch [11] Iteration [10000]: loss = 0.46909552396923876 accuracy = 0.79\n",
      "Epoch [11] Iteration [15000]: loss = 0.4351926923376962 accuracy = 0.825\n",
      "Epoch [11] Iteration [20000]: loss = 0.5151623518069678 accuracy = 0.82\n",
      "Epoch [11] Iteration [25000]: loss = 0.6277095336513422 accuracy = 0.775\n",
      "Epoch [11] average_loss = 0.47222202813853276 average_accuracy = 0.8174035720728846\n",
      "Epoch [11] train_loss = 0.46992121474587323 train_accuracy = 0.8190257916047572\n",
      "Epoch [11] test_accuracy = 0.818807139182009\n",
      "Epoch [12] Iteration [5000]: loss = 0.4349978335179173 accuracy = 0.86\n",
      "Epoch [12] Iteration [10000]: loss = 0.4482575109727299 accuracy = 0.81\n",
      "Epoch [12] Iteration [15000]: loss = 0.435995838296408 accuracy = 0.82\n",
      "Epoch [12] Iteration [20000]: loss = 0.5097220187525001 accuracy = 0.825\n",
      "Epoch [12] Iteration [25000]: loss = 0.6083516510931163 accuracy = 0.79\n",
      "Epoch [12] average_loss = 0.46770575734704706 average_accuracy = 0.8190357207288471\n",
      "Epoch [12] train_loss = 0.4628094322141832 train_accuracy = 0.8219202301118302\n",
      "Epoch [12] test_accuracy = 0.8216258070475356\n",
      "Epoch [13] Iteration [5000]: loss = 0.4307923387324771 accuracy = 0.86\n",
      "Epoch [13] Iteration [10000]: loss = 0.44105199571746595 accuracy = 0.81\n",
      "Epoch [13] Iteration [15000]: loss = 0.4367255073103854 accuracy = 0.825\n",
      "Epoch [13] Iteration [20000]: loss = 0.5077170613290349 accuracy = 0.825\n",
      "Epoch [13] Iteration [25000]: loss = 0.6190256535709695 accuracy = 0.785\n",
      "Epoch [13] average_loss = 0.46360253958045416 average_accuracy = 0.8204784412772868\n",
      "Epoch [13] train_loss = 0.45799613803848954 train_accuracy = 0.8233872940572003\n",
      "Epoch [13] test_accuracy = 0.823116684623106\n",
      "Epoch [14] Iteration [5000]: loss = 0.42977945760951997 accuracy = 0.85\n"
     ]
    },
    {
     "name": "stdout",
     "output_type": "stream",
     "text": [
      "Epoch [14] Iteration [10000]: loss = 0.4475286642614567 accuracy = 0.8\n",
      "Epoch [14] Iteration [15000]: loss = 0.43704201771495543 accuracy = 0.83\n",
      "Epoch [14] Iteration [20000]: loss = 0.5102677193416244 accuracy = 0.825\n",
      "Epoch [14] Iteration [25000]: loss = 0.6233589488011344 accuracy = 0.78\n",
      "Epoch [14] average_loss = 0.46014655898411044 average_accuracy = 0.821799386613747\n",
      "Epoch [14] train_loss = 0.4563601814733283 train_accuracy = 0.8236117194812093\n",
      "Epoch [14] test_accuracy = 0.8232682259061989\n",
      "Epoch [15] Iteration [5000]: loss = 0.42602434914179227 accuracy = 0.865\n",
      "Epoch [15] Iteration [10000]: loss = 0.43612105830748576 accuracy = 0.825\n",
      "Epoch [15] Iteration [15000]: loss = 0.43666505313671583 accuracy = 0.83\n",
      "Epoch [15] Iteration [20000]: loss = 0.5121210567449359 accuracy = 0.82\n",
      "Epoch [15] Iteration [25000]: loss = 0.6127486940796963 accuracy = 0.795\n",
      "Epoch [15] average_loss = 0.45700560442816174 average_accuracy = 0.822865415839798\n",
      "Epoch [15] train_loss = 0.4551949848545698 train_accuracy = 0.8238924316675098\n",
      "Epoch [15] test_accuracy = 0.8236023383541606\n",
      "Epoch [16] Iteration [5000]: loss = 0.4249880609316732 accuracy = 0.865\n",
      "Epoch [16] Iteration [10000]: loss = 0.43551352420950634 accuracy = 0.845\n",
      "Epoch [16] Iteration [15000]: loss = 0.4344479613637045 accuracy = 0.83\n",
      "Epoch [16] Iteration [20000]: loss = 0.5073758395907296 accuracy = 0.82\n",
      "Epoch [16] Iteration [25000]: loss = 0.612729320156638 accuracy = 0.81\n",
      "Epoch [16] average_loss = 0.4541481325635723 average_accuracy = 0.8239509290997653\n",
      "Epoch [16] train_loss = 0.4568228345270986 train_accuracy = 0.8226627823989852\n",
      "Epoch [16] test_accuracy = 0.8223055779459806\n",
      "Epoch [17] Iteration [5000]: loss = 0.4213648021938674 accuracy = 0.87\n",
      "Epoch [17] Iteration [10000]: loss = 0.4382603731498513 accuracy = 0.84\n",
      "Epoch [17] Iteration [15000]: loss = 0.43601919251897825 accuracy = 0.825\n",
      "Epoch [17] Iteration [20000]: loss = 0.5062258129512271 accuracy = 0.82\n",
      "Epoch [17] Iteration [25000]: loss = 0.602848705989572 accuracy = 0.805\n",
      "Epoch [17] average_loss = 0.4515980636762563 average_accuracy = 0.8248405195742379\n",
      "Epoch [17] train_loss = 0.45373862531697734 train_accuracy = 0.8241103624651004\n",
      "Epoch [17] test_accuracy = 0.8239487184298014\n",
      "Epoch [18] Iteration [5000]: loss = 0.41983601531861653 accuracy = 0.88\n",
      "Epoch [18] Iteration [10000]: loss = 0.42908254663927126 accuracy = 0.845\n",
      "Epoch [18] Iteration [15000]: loss = 0.436091398013811 accuracy = 0.82\n",
      "Epoch [18] Iteration [20000]: loss = 0.5018399101739222 accuracy = 0.825\n",
      "Epoch [18] Iteration [25000]: loss = 0.6176570646822699 accuracy = 0.79\n",
      "Epoch [18] average_loss = 0.4493342740080509 average_accuracy = 0.8256193397077394\n",
      "Epoch [18] train_loss = 0.4523523237325345 train_accuracy = 0.8245505538112272\n",
      "Epoch [18] test_accuracy = 0.8244141666564436\n",
      "Epoch [19] Iteration [5000]: loss = 0.4221975470375391 accuracy = 0.875\n",
      "Epoch [19] Iteration [10000]: loss = 0.4292908054353029 accuracy = 0.85\n",
      "Epoch [19] Iteration [15000]: loss = 0.4318814984933946 accuracy = 0.82\n",
      "Epoch [19] Iteration [20000]: loss = 0.5012824793502463 accuracy = 0.825\n",
      "Epoch [19] Iteration [25000]: loss = 0.6097323721918857 accuracy = 0.795\n",
      "Epoch [19] average_loss = 0.44728462405337094 average_accuracy = 0.8263402489626556\n",
      "Epoch [19] train_loss = 0.44795672178161805 train_accuracy = 0.8263784303353897\n",
      "Epoch [19] test_accuracy = 0.8262240025516665\n",
      "Epoch [20] Iteration [5000]: loss = 0.4248365002130226 accuracy = 0.875\n",
      "Epoch [20] Iteration [10000]: loss = 0.42416084178140706 accuracy = 0.85\n",
      "Epoch [20] Iteration [15000]: loss = 0.4300277109664849 accuracy = 0.815\n",
      "Epoch [20] Iteration [20000]: loss = 0.4988096173161921 accuracy = 0.83\n",
      "Epoch [20] Iteration [25000]: loss = 0.6031804779892663 accuracy = 0.8\n",
      "Epoch [20] average_loss = 0.4453252617898949 average_accuracy = 0.8270194840339167\n",
      "Epoch [20] train_loss = 0.4458766844396048 train_accuracy = 0.8271729396338907\n",
      "Epoch [20] test_accuracy = 0.8270076874728037\n",
      "Epoch [21] Iteration [5000]: loss = 0.4177845832464776 accuracy = 0.88\n",
      "Epoch [21] Iteration [10000]: loss = 0.42243565816934586 accuracy = 0.85\n",
      "Epoch [21] Iteration [15000]: loss = 0.42816842491346807 accuracy = 0.82\n",
      "Epoch [21] Iteration [20000]: loss = 0.49755584036564643 accuracy = 0.825\n",
      "Epoch [21] Iteration [25000]: loss = 0.6116664021172578 accuracy = 0.785\n",
      "Epoch [21] average_loss = 0.443555749583505 average_accuracy = 0.8276835648565759\n",
      "Epoch [21] train_loss = 0.44387266257781643 train_accuracy = 0.8277401370077524\n",
      "Epoch [21] test_accuracy = 0.8276881799964063\n",
      "Epoch [22] Iteration [5000]: loss = 0.4272615648750619 accuracy = 0.865\n",
      "Epoch [22] Iteration [10000]: loss = 0.422387923932402 accuracy = 0.85\n",
      "Epoch [22] Iteration [15000]: loss = 0.426970310053496 accuracy = 0.825\n",
      "Epoch [22] Iteration [20000]: loss = 0.4958564924605614 accuracy = 0.83\n",
      "Epoch [22] Iteration [25000]: loss = 0.6009210658886427 accuracy = 0.795\n",
      "Epoch [22] average_loss = 0.4418911214109511 average_accuracy = 0.8282529316254736\n",
      "Epoch [22] train_loss = 0.4385179501153082 train_accuracy = 0.8298992394792464\n",
      "Epoch [22] test_accuracy = 0.8297845010791904\n",
      "Epoch [23] Iteration [5000]: loss = 0.4292770811037606 accuracy = 0.865\n",
      "Epoch [23] Iteration [10000]: loss = 0.4204637239456994 accuracy = 0.845\n",
      "Epoch [23] Iteration [15000]: loss = 0.42693021709069534 accuracy = 0.82\n",
      "Epoch [23] Iteration [20000]: loss = 0.503056716010238 accuracy = 0.825\n",
      "Epoch [23] Iteration [25000]: loss = 0.6058152418523759 accuracy = 0.795\n",
      "Epoch [23] average_loss = 0.4403576981676664 average_accuracy = 0.8287411149197186\n",
      "Epoch [23] train_loss = 0.43878884985941136 train_accuracy = 0.8298083147093908\n",
      "Epoch [23] test_accuracy = 0.829661824802401\n",
      "Epoch [24] Iteration [5000]: loss = 0.43423526918895644 accuracy = 0.865\n",
      "Epoch [24] Iteration [10000]: loss = 0.41098877296296754 accuracy = 0.845\n",
      "Epoch [24] Iteration [15000]: loss = 0.4247139578180352 accuracy = 0.825\n",
      "Epoch [24] Iteration [20000]: loss = 0.48590898572900415 accuracy = 0.825\n",
      "Epoch [24] Iteration [25000]: loss = 0.6064471383265215 accuracy = 0.795\n",
      "Epoch [24] average_loss = 0.438914985617272 average_accuracy = 0.8292421071621865\n",
      "Epoch [24] train_loss = 0.43888147487355805 train_accuracy = 0.8299612992427987\n",
      "Epoch [24] test_accuracy = 0.8298263553383304\n",
      "peak memory: 13643.73 MiB, increment: 5346.66 MiB\n",
      "time : 1060.3522281646729 seconds\n"
     ]
    }
   ],
   "source": [
    "############################### Train at at order = 0.9 ###################################################3\n",
    "time2=time.time()\n",
    "\n",
    "%memit layers, train_acc09, test_acc09, epochLoss09, ypred09 = FO_train_mini_batch(X_train, Y_train, X_test, Y_test, F09_initial_layers, batch_size=200, num_epoch=25, learning_rate=0.023, alpha =0.9)\n",
    "\n",
    "time3=time.time() - time2\n",
    "\n",
    "print('time : {} seconds'.format(time3))"
   ]
  },
  {
   "cell_type": "code",
   "execution_count": 38,
   "metadata": {
    "colab": {
     "base_uri": "https://localhost:8080/",
     "height": 295
    },
    "id": "MvfAVg3puMr0",
    "outputId": "395049cd-ba24-40c6-a716-2be5da44cb1b"
   },
   "outputs": [
    {
     "data": {
      "image/png": "[encoded data removed]",
      "text/plain": [
       "<Figure size 1152x648 with 1 Axes>"
      ]
     },
     "metadata": {
      "needs_background": "light"
     },
     "output_type": "display_data"
    }
   ],
   "source": [
    "fig, ax = plt.subplots(figsize=(16, 9))\n",
    "\n",
    "ax.plot(np.arange(len(train_acc09)), train_acc09, label='Training accuracy')\n",
    "ax.plot(np.arange(len(train_acc09)), test_acc09, label='Test accuracy')\n",
    "\n",
    "ax.set_title('For gradient of order: 0.9')\n",
    "ax.set_xlabel('Epoch')\n",
    "ax.set_ylabel('Accuracy')\n",
    "\n",
    "ax.legend(fontsize=20)\n",
    "ax.grid()\n",
    "\n",
    "fig.savefig(images / 'accuracy_order0.9.svg')"
   ]
  },
  {
   "cell_type": "markdown",
   "metadata": {
    "id": "9eb_iyG_AQ25"
   },
   "source": [
    "### Model with order : 1.1"
   ]
  },
  {
   "cell_type": "code",
   "execution_count": 37,
   "metadata": {
    "colab": {
     "base_uri": "https://localhost:8080/"
    },
    "id": "V_tTh4ZiRuM6",
    "outputId": "aa175a14-f319-4787-edbe-130304201206",
    "scrolled": true
   },
   "outputs": [
    {
     "name": "stdout",
     "output_type": "stream",
     "text": [
      "==============================================================================================================\n",
      "\n",
      "Fractional order traning for order of gradient = 1.1\n",
      "==============================================================================================================\n",
      "\n",
      "\n",
      "Epoch [0] Iteration [5000]: loss = 0.4268622533762831 accuracy = 0.87\n",
      "Epoch [0] Iteration [10000]: loss = 0.415262508488174 accuracy = 0.855\n",
      "Epoch [0] Iteration [15000]: loss = 0.43289881342810665 accuracy = 0.825\n",
      "Epoch [0] Iteration [20000]: loss = 0.4825281630780657 accuracy = 0.83\n",
      "Epoch [0] Iteration [25000]: loss = 0.6010182494155522 accuracy = 0.805\n",
      "Epoch [0] average_loss = 0.437568510760074 average_accuracy = 0.8297158578387155\n",
      "Epoch [0] train_loss = 0.43811416276920995 train_accuracy = 0.8302398465536265\n",
      "Epoch [0] test_accuracy = 0.8300507807623393\n",
      "Epoch [1] Iteration [5000]: loss = 0.4300261856829718 accuracy = 0.865\n",
      "Epoch [1] Iteration [10000]: loss = 0.41565452066773434 accuracy = 0.85\n",
      "Epoch [1] Iteration [15000]: loss = 0.42730551205066725 accuracy = 0.83\n",
      "Epoch [1] Iteration [20000]: loss = 0.48076703603304777 accuracy = 0.82\n",
      "Epoch [1] Iteration [25000]: loss = 0.597655541554177 accuracy = 0.81\n",
      "Epoch [1] average_loss = 0.436254773543867 average_accuracy = 0.8302260508749774\n",
      "Epoch [1] train_loss = 0.4355806803159393 train_accuracy = 0.8315055770800304\n",
      "Epoch [1] test_accuracy = 0.8311512591276562\n",
      "Epoch [2] Iteration [5000]: loss = 0.4365513889452977 accuracy = 0.865\n",
      "Epoch [2] Iteration [10000]: loss = 0.41480476313719433 accuracy = 0.845\n",
      "Epoch [2] Iteration [15000]: loss = 0.42748218957686723 accuracy = 0.82\n",
      "Epoch [2] Iteration [20000]: loss = 0.48643391339735914 accuracy = 0.825\n",
      "Epoch [2] Iteration [25000]: loss = 0.5968846866838455 accuracy = 0.805\n",
      "Epoch [2] average_loss = 0.4350793856470914 average_accuracy = 0.8306110409525529\n",
      "Epoch [2] train_loss = 0.43498612577131407 train_accuracy = 0.8315928937240982\n",
      "Epoch [2] test_accuracy = 0.8311137346194618\n",
      "Epoch [3] Iteration [5000]: loss = 0.4394840350537757 accuracy = 0.865\n",
      "Epoch [3] Iteration [10000]: loss = 0.4107968573135168 accuracy = 0.85\n",
      "Epoch [3] Iteration [15000]: loss = 0.42819586098891516 accuracy = 0.82\n",
      "Epoch [3] Iteration [20000]: loss = 0.4801541326580896 accuracy = 0.82\n",
      "Epoch [3] Iteration [25000]: loss = 0.5877076779374228 accuracy = 0.815\n",
      "Epoch [3] average_loss = 0.4338854298883094 average_accuracy = 0.8310090203860724\n",
      "Epoch [3] train_loss = 0.434394502907394 train_accuracy = 0.8318194840235799\n",
      "Epoch [3] test_accuracy = 0.8313857873038712\n",
      "Epoch [4] Iteration [5000]: loss = 0.4323521938074367 accuracy = 0.86\n",
      "Epoch [4] Iteration [10000]: loss = 0.4113727763344648 accuracy = 0.845\n",
      "Epoch [4] Iteration [15000]: loss = 0.42741761227710273 accuracy = 0.82\n",
      "Epoch [4] Iteration [20000]: loss = 0.4834427933938796 accuracy = 0.825\n",
      "Epoch [4] Iteration [25000]: loss = 0.585640154684718 accuracy = 0.815\n",
      "Epoch [4] average_loss = 0.43275828753255924 average_accuracy = 0.8313324914306333\n",
      "Epoch [4] train_loss = 0.43291387894530553 train_accuracy = 0.8322863755005373\n",
      "Epoch [4] test_accuracy = 0.831838246277677\n",
      "Epoch [5] Iteration [5000]: loss = 0.43068436981877106 accuracy = 0.855\n",
      "Epoch [5] Iteration [10000]: loss = 0.41208061677599517 accuracy = 0.85\n",
      "Epoch [5] Iteration [15000]: loss = 0.42729224688603296 accuracy = 0.825\n",
      "Epoch [5] Iteration [20000]: loss = 0.4779913171779006 accuracy = 0.825\n",
      "Epoch [5] Iteration [25000]: loss = 0.5868970259546087 accuracy = 0.8\n",
      "Epoch [5] average_loss = 0.4316971957681736 average_accuracy = 0.831808587407541\n",
      "Epoch [5] train_loss = 0.43151940135819 train_accuracy = 0.8327547102278099\n",
      "Epoch [5] test_accuracy = 0.832497090046552\n",
      "Epoch [6] Iteration [5000]: loss = 0.44118019682171045 accuracy = 0.85\n",
      "Epoch [6] Iteration [10000]: loss = 0.40777837086184493 accuracy = 0.855\n",
      "Epoch [6] Iteration [15000]: loss = 0.4254583841297122 accuracy = 0.82\n",
      "Epoch [6] Iteration [20000]: loss = 0.4765190159772622 accuracy = 0.825\n",
      "Epoch [6] Iteration [25000]: loss = 0.5879638056722907 accuracy = 0.8\n",
      "Epoch [6] average_loss = 0.4306655091696701 average_accuracy = 0.8321284502976727\n",
      "Epoch [6] train_loss = 0.43065870189423566 train_accuracy = 0.8328247078680956\n",
      "Epoch [6] test_accuracy = 0.8326991450906758\n",
      "Epoch [7] Iteration [5000]: loss = 0.4281180820937962 accuracy = 0.865\n",
      "Epoch [7] Iteration [10000]: loss = 0.40685822063562704 accuracy = 0.855\n",
      "Epoch [7] Iteration [15000]: loss = 0.4256320184718305 accuracy = 0.825\n",
      "Epoch [7] Iteration [20000]: loss = 0.46897707814937306 accuracy = 0.84\n",
      "Epoch [7] Iteration [25000]: loss = 0.5841936074777817 accuracy = 0.805\n",
      "Epoch [7] average_loss = 0.42970239620317296 average_accuracy = 0.8324793433158939\n",
      "Epoch [7] train_loss = 0.43119869832977387 train_accuracy = 0.8326471880793297\n",
      "Epoch [7] test_accuracy = 0.8324610087886728\n",
      "Epoch [8] Iteration [5000]: loss = 0.43619235663514305 accuracy = 0.855\n",
      "Epoch [8] Iteration [10000]: loss = 0.40697546157781817 accuracy = 0.85\n",
      "Epoch [8] Iteration [15000]: loss = 0.4222654413082576 accuracy = 0.835\n",
      "Epoch [8] Iteration [20000]: loss = 0.47879181163355694 accuracy = 0.83\n",
      "Epoch [8] Iteration [25000]: loss = 0.5846641229904725 accuracy = 0.8\n",
      "Epoch [8] average_loss = 0.42878013276605886 average_accuracy = 0.8327681760779362\n",
      "Epoch [8] train_loss = 0.42641082586306017 train_accuracy = 0.8346994900275011\n",
      "Epoch [8] test_accuracy = 0.8344505293481344\n",
      "Epoch [9] Iteration [5000]: loss = 0.4291681339489565 accuracy = 0.865\n",
      "Epoch [9] Iteration [10000]: loss = 0.4087262526561591 accuracy = 0.855\n",
      "Epoch [9] Iteration [15000]: loss = 0.4203905702119391 accuracy = 0.83\n",
      "Epoch [9] Iteration [20000]: loss = 0.46320703975573535 accuracy = 0.84\n",
      "Epoch [9] Iteration [25000]: loss = 0.5915845436080073 accuracy = 0.8\n",
      "Epoch [9] average_loss = 0.42786310488653817 average_accuracy = 0.8331190690961573\n",
      "Epoch [9] train_loss = 0.4278408936627727 train_accuracy = 0.8338068397075686\n",
      "Epoch [9] test_accuracy = 0.8336120009150207\n",
      "Epoch [10] Iteration [5000]: loss = 0.4296243369815791 accuracy = 0.85\n",
      "Epoch [10] Iteration [10000]: loss = 0.40670198121974666 accuracy = 0.85\n",
      "Epoch [10] Iteration [15000]: loss = 0.42160490172436094 accuracy = 0.83\n",
      "Epoch [10] Iteration [20000]: loss = 0.46330149177440644 accuracy = 0.845\n",
      "Epoch [10] Iteration [25000]: loss = 0.5846155348465422 accuracy = 0.795\n",
      "Epoch [10] average_loss = 0.4270013020600088 average_accuracy = 0.8334880028865236\n",
      "Epoch [10] train_loss = 0.42861028783347194 train_accuracy = 0.8337188014383433\n",
      "Epoch [10] test_accuracy = 0.8334770570105523\n",
      "Epoch [11] Iteration [5000]: loss = 0.4312015194568191 accuracy = 0.85\n",
      "Epoch [11] Iteration [10000]: loss = 0.4023399820829722 accuracy = 0.86\n",
      "Epoch [11] Iteration [15000]: loss = 0.41534525012199275 accuracy = 0.835\n",
      "Epoch [11] Iteration [20000]: loss = 0.4641767838381449 accuracy = 0.835\n",
      "Epoch [11] Iteration [25000]: loss = 0.5848827122457484 accuracy = 0.8\n",
      "Epoch [11] average_loss = 0.42618408600902 average_accuracy = 0.8337162186541583\n",
      "Epoch [11] train_loss = 0.42303391748865515 train_accuracy = 0.8361016077086886\n",
      "Epoch [11] test_accuracy = 0.8358779039098373\n",
      "Epoch [12] Iteration [5000]: loss = 0.4317739209054494 accuracy = 0.85\n",
      "Epoch [12] Iteration [10000]: loss = 0.3997979654498578 accuracy = 0.845\n",
      "Epoch [12] Iteration [15000]: loss = 0.4146797840595249 accuracy = 0.835\n",
      "Epoch [12] Iteration [20000]: loss = 0.46586119030375345 accuracy = 0.84\n",
      "Epoch [12] Iteration [25000]: loss = 0.5887235849672503 accuracy = 0.795\n",
      "Epoch [12] average_loss = 0.42534069356927107 average_accuracy = 0.8340963377232546\n",
      "Epoch [12] train_loss = 0.4256195412859982 train_accuracy = 0.8350992703648031\n",
      "Epoch [12] test_accuracy = 0.8348200014288178\n",
      "Epoch [13] Iteration [5000]: loss = 0.42464825392179734 accuracy = 0.85\n",
      "Epoch [13] Iteration [10000]: loss = 0.39923883728289716 accuracy = 0.855\n",
      "Epoch [13] Iteration [15000]: loss = 0.417732240774074 accuracy = 0.83\n",
      "Epoch [13] Iteration [20000]: loss = 0.4663984042840227 accuracy = 0.835\n",
      "Epoch [13] Iteration [25000]: loss = 0.5850761323517816 accuracy = 0.795\n",
      "Epoch [13] average_loss = 0.42457262772747717 average_accuracy = 0.8343925672018762\n",
      "Epoch [13] train_loss = 0.4226688997440382 train_accuracy = 0.8361333592156224\n",
      "Epoch [13] test_accuracy = 0.8359442934243351\n"
     ]
    },
    {
     "name": "stdout",
     "output_type": "stream",
     "text": [
      "Epoch [14] Iteration [5000]: loss = 0.4231119809883457 accuracy = 0.855\n",
      "Epoch [14] Iteration [10000]: loss = 0.3973480743490348 accuracy = 0.85\n",
      "Epoch [14] Iteration [15000]: loss = 0.4142696790052044 accuracy = 0.84\n",
      "Epoch [14] Iteration [20000]: loss = 0.4596444538569561 accuracy = 0.84\n",
      "Epoch [14] Iteration [25000]: loss = 0.5840519141693319 accuracy = 0.795\n",
      "Epoch [14] average_loss = 0.4238198653991926 average_accuracy = 0.8346927656503698\n",
      "Epoch [14] train_loss = 0.4225667331689925 train_accuracy = 0.8360467641967121\n",
      "Epoch [14] test_accuracy = 0.8358916147878314\n",
      "Epoch [15] Iteration [5000]: loss = 0.42852251036322897 accuracy = 0.85\n",
      "Epoch [15] Iteration [10000]: loss = 0.40239825168956833 accuracy = 0.85\n",
      "Epoch [15] Iteration [15000]: loss = 0.4139052685791218 accuracy = 0.84\n",
      "Epoch [15] Iteration [20000]: loss = 0.4588301199035374 accuracy = 0.845\n",
      "Epoch [15] Iteration [25000]: loss = 0.5861290065295411 accuracy = 0.79\n",
      "Epoch [15] average_loss = 0.4230746528509293 average_accuracy = 0.8349742016958326\n",
      "Epoch [15] train_loss = 0.42089400882126443 train_accuracy = 0.8366911754624354\n",
      "Epoch [15] test_accuracy = 0.8364443796585415\n",
      "Epoch [16] Iteration [5000]: loss = 0.4294210587793576 accuracy = 0.855\n",
      "Epoch [16] Iteration [10000]: loss = 0.39473696260270863 accuracy = 0.85\n",
      "Epoch [16] Iteration [15000]: loss = 0.4129066640236212 accuracy = 0.84\n",
      "Epoch [16] Iteration [20000]: loss = 0.45660134456196105 accuracy = 0.845\n",
      "Epoch [16] Iteration [25000]: loss = 0.5847078608570905 accuracy = 0.785\n",
      "Epoch [16] average_loss = 0.4223940266635401 average_accuracy = 0.8352080101028323\n",
      "Epoch [16] train_loss = 0.4207996577034834 train_accuracy = 0.8365338611780819\n",
      "Epoch [16] test_accuracy = 0.836427782279917\n",
      "Epoch [17] Iteration [5000]: loss = 0.4254621832330318 accuracy = 0.855\n",
      "Epoch [17] Iteration [10000]: loss = 0.40058543250687856 accuracy = 0.855\n",
      "Epoch [17] Iteration [15000]: loss = 0.41277423605369123 accuracy = 0.835\n",
      "Epoch [17] Iteration [20000]: loss = 0.4555784516511443 accuracy = 0.845\n",
      "Epoch [17] Iteration [25000]: loss = 0.590789351077536 accuracy = 0.79\n",
      "Epoch [17] average_loss = 0.4216984069962143 average_accuracy = 0.8354454266642612\n",
      "Epoch [17] train_loss = 0.42139210037074926 train_accuracy = 0.8364205660283411\n",
      "Epoch [17] test_accuracy = 0.8362387164886297\n",
      "Epoch [18] Iteration [5000]: loss = 0.43158091025178036 accuracy = 0.85\n",
      "Epoch [18] Iteration [10000]: loss = 0.4022071961307354 accuracy = 0.855\n",
      "Epoch [18] Iteration [15000]: loss = 0.41527798103826724 accuracy = 0.84\n",
      "Epoch [18] Iteration [20000]: loss = 0.4479783894257989 accuracy = 0.85\n",
      "Epoch [18] Iteration [25000]: loss = 0.590936525267269 accuracy = 0.785\n",
      "Epoch [18] average_loss = 0.4210319027414509 average_accuracy = 0.8356521739130435\n",
      "Epoch [18] train_loss = 0.42305140713408756 train_accuracy = 0.83549760745179\n",
      "Epoch [18] test_accuracy = 0.8353172011623938\n",
      "Epoch [19] Iteration [5000]: loss = 0.4269918677551592 accuracy = 0.855\n",
      "Epoch [19] Iteration [10000]: loss = 0.3963061804342561 accuracy = 0.85\n",
      "Epoch [19] Iteration [15000]: loss = 0.41155163427965563 accuracy = 0.845\n",
      "Epoch [19] Iteration [20000]: loss = 0.4474063770515934 accuracy = 0.85\n",
      "Epoch [19] Iteration [25000]: loss = 0.5859538515861119 accuracy = 0.775\n",
      "Epoch [19] average_loss = 0.4204513854884661 average_accuracy = 0.8359341511816705\n",
      "Epoch [19] train_loss = 0.42067657640964584 train_accuracy = 0.836653650954241\n",
      "Epoch [19] test_accuracy = 0.8362978897515517\n",
      "Epoch [20] Iteration [5000]: loss = 0.42897527763293153 accuracy = 0.85\n",
      "Epoch [20] Iteration [10000]: loss = 0.3971044972410451 accuracy = 0.855\n",
      "Epoch [20] Iteration [15000]: loss = 0.41119033965088464 accuracy = 0.85\n",
      "Epoch [20] Iteration [20000]: loss = 0.4467961997603423 accuracy = 0.85\n",
      "Epoch [20] Iteration [25000]: loss = 0.5934612494839414 accuracy = 0.78\n",
      "Epoch [20] average_loss = 0.4197962265824901 average_accuracy = 0.8362233447591557\n",
      "Epoch [20] train_loss = 0.4179555520249808 train_accuracy = 0.8376025880364651\n",
      "Epoch [20] test_accuracy = 0.8375001172640881\n",
      "Epoch [21] Iteration [5000]: loss = 0.4297620394056518 accuracy = 0.855\n",
      "Epoch [21] Iteration [10000]: loss = 0.3992630742437749 accuracy = 0.845\n",
      "Epoch [21] Iteration [15000]: loss = 0.41704543276725076 accuracy = 0.845\n",
      "Epoch [21] Iteration [20000]: loss = 0.44324736973530504 accuracy = 0.865\n",
      "Epoch [21] Iteration [25000]: loss = 0.5981209723628588 accuracy = 0.78\n",
      "Epoch [21] average_loss = 0.4191906128652376 average_accuracy = 0.836393649648205\n",
      "Epoch [21] train_loss = 0.4152733868375924 train_accuracy = 0.8385096708595494\n",
      "Epoch [21] test_accuracy = 0.8382202991713579\n",
      "Epoch [22] Iteration [5000]: loss = 0.4251333482821943 accuracy = 0.86\n",
      "Epoch [22] Iteration [10000]: loss = 0.39893820488561116 accuracy = 0.845\n",
      "Epoch [22] Iteration [15000]: loss = 0.41946750460535287 accuracy = 0.835\n",
      "Epoch [22] Iteration [20000]: loss = 0.4437100670001188 accuracy = 0.86\n",
      "Epoch [22] Iteration [25000]: loss = 0.5929470176063666 accuracy = 0.775\n",
      "Epoch [22] average_loss = 0.4186338385014323 average_accuracy = 0.8365567382283962\n",
      "Epoch [22] train_loss = 0.41581485240383304 train_accuracy = 0.8381654556593814\n",
      "Epoch [22] test_accuracy = 0.8378955678504446\n",
      "Epoch [23] Iteration [5000]: loss = 0.42672647239690426 accuracy = 0.855\n",
      "Epoch [23] Iteration [10000]: loss = 0.39479608217055356 accuracy = 0.855\n",
      "Epoch [23] Iteration [15000]: loss = 0.4129404184108786 accuracy = 0.83\n",
      "Epoch [23] Iteration [20000]: loss = 0.4450181193212528 accuracy = 0.855\n",
      "Epoch [23] Iteration [25000]: loss = 0.5914126493041616 accuracy = 0.785\n",
      "Epoch [23] average_loss = 0.41804746259499465 average_accuracy = 0.8367952372361537\n",
      "Epoch [23] train_loss = 0.41642981071748975 train_accuracy = 0.8378508270906744\n",
      "Epoch [23] test_accuracy = 0.837736810315776\n",
      "Epoch [24] Iteration [5000]: loss = 0.4283299405320362 accuracy = 0.865\n",
      "Epoch [24] Iteration [10000]: loss = 0.3988041439297744 accuracy = 0.865\n",
      "Epoch [24] Iteration [15000]: loss = 0.41454256332528233 accuracy = 0.84\n",
      "Epoch [24] Iteration [20000]: loss = 0.44457522650641407 accuracy = 0.865\n",
      "Epoch [24] Iteration [25000]: loss = 0.5950887138935366 accuracy = 0.775\n",
      "Epoch [24] average_loss = 0.4174938607272145 average_accuracy = 0.83702363341151\n",
      "Epoch [24] train_loss = 0.41524883952435127 train_accuracy = 0.8383372024468866\n",
      "Epoch [24] test_accuracy = 0.8381459717801266\n",
      "peak memory: 12508.56 MiB, increment: 2237.05 MiB\n",
      "time : 1070.8794329166412 seconds\n"
     ]
    }
   ],
   "source": [
    "########################################### Train at order = 1.1 ##################################################\n",
    "time4 = time.time()\n",
    "\n",
    "%memit layers, train_acc11, test_acc11, epochLoss11, ypred11  = FO_train_mini_batch(X_train, Y_train, X_test, Y_test, F11_initial_layers, batch_size=200, num_epoch=25, learning_rate=0.023, alpha= 1.1)\n",
    "\n",
    "time5 = time.time() - time4\n",
    "\n",
    "print('time : {} seconds'.format(time5))"
   ]
  },
  {
   "cell_type": "code",
   "execution_count": 39,
   "metadata": {
    "colab": {
     "base_uri": "https://localhost:8080/",
     "height": 295
    },
    "id": "ODV66G-uoHpu",
    "outputId": "7f84e5c2-6c83-49b6-9c28-88769c5a6a6f"
   },
   "outputs": [
    {
     "data": {
      "image/png": "[encoded data removed]",
      "text/plain": [
       "<Figure size 1152x648 with 1 Axes>"
      ]
     },
     "metadata": {
      "needs_background": "light"
     },
     "output_type": "display_data"
    }
   ],
   "source": [
    "fig, ax = plt.subplots(figsize=(16, 9))\n",
    "\n",
    "ax.plot(np.arange(len(train_acc11)), train_acc11, label='Training accuracy')\n",
    "ax.plot(np.arange(len(train_acc11)), test_acc11, label='Test accuracy')\n",
    "\n",
    "ax.set_title('For gradient of order: 1.1')\n",
    "ax.set_xlabel('Epoch')\n",
    "ax.set_ylabel('Accuracy')\n",
    "\n",
    "ax.legend(fontsize=20)\n",
    "ax.grid()\n",
    "\n",
    "fig.savefig(images / 'accuracy_order1.1.svg')"
   ]
  },
  {
   "cell_type": "code",
   "execution_count": 53,
   "metadata": {
    "id": "fgI24wA8IkhM"
   },
   "outputs": [],
   "source": [
    "times = [round(time1/60, 2), round(time3/60, 2), round(time5/60, 2)]\n",
    "RAM = [5346.66, 2491.38, 2237.05 ]\n",
    "\n",
    "util = {'Grad': ['Order of 0.9', 'Order of 1', 'Order of 1.1'], 'Time': times, 'RAM': RAM}\n",
    "\n",
    "df = pd.DataFrame.from_dict(util)"
   ]
  },
  {
   "cell_type": "code",
   "execution_count": 43,
   "metadata": {
    "colab": {
     "base_uri": "https://localhost:8080/",
     "height": 339
    },
    "id": "TpjWBi_q0mBg",
    "outputId": "84a2c236-885b-4f65-af6c-15a745ea472c"
   },
   "outputs": [
    {
     "data": {
      "image/png": "[encoded data removed]",
      "text/plain": [
       "<Figure size 864x360 with 1 Axes>"
      ]
     },
     "metadata": {
      "needs_background": "light"
     },
     "output_type": "display_data"
    }
   ],
   "source": [
    "fig, ax = plt.subplots(figsize =(12, 5))\n",
    " \n",
    "ax.barh(df['Grad'], df['RAM'])\n",
    "for s in ['top', 'bottom', 'left', 'right']:\n",
    "    ax.spines[s].set_visible(False)\n",
    "\n",
    "ax.xaxis.set_ticks_position('none')\n",
    "ax.yaxis.set_ticks_position('none')\n",
    " \n",
    "ax.xaxis.set_tick_params(pad = 5)\n",
    "ax.yaxis.set_tick_params(pad = 10)\n",
    "ax.grid(b = True, color ='grey',\n",
    "        linestyle ='-.', linewidth = 0.15,\n",
    "        alpha = 0.2)\n",
    " \n",
    "\n",
    "ax.invert_yaxis()\n",
    " \n",
    "\n",
    "for i in ax.patches:\n",
    "    plt.text(i.get_width()+0.2, i.get_y()+0.5, \n",
    "             str(round((i.get_width()), 2)),\n",
    "             fontsize = 12, fontweight ='bold',\n",
    "             color ='grey')\n",
    "\n",
    "\n",
    "ax.set_title('RAM used', loc ='center', fontsize = 15, fontweight ='bold');"
   ]
  },
  {
   "cell_type": "code",
   "execution_count": 45,
   "metadata": {
    "colab": {
     "base_uri": "https://localhost:8080/",
     "height": 339
    },
    "id": "KEANBEN30lfe",
    "outputId": "369f89f2-1c25-4a9d-d83b-1539e1440f20"
   },
   "outputs": [
    {
     "data": {
      "image/png": "[encoded data removed]",
      "text/plain": [
       "<Figure size 864x360 with 1 Axes>"
      ]
     },
     "metadata": {
      "needs_background": "light"
     },
     "output_type": "display_data"
    }
   ],
   "source": [
    "fig, ax = plt.subplots(figsize =(12, 5))\n",
    " \n",
    "ax.barh(df['Grad'], df['Time'])\n",
    "for s in ['top', 'bottom', 'left', 'right']:\n",
    "    ax.spines[s].set_visible(False)\n",
    "\n",
    "ax.xaxis.set_ticks_position('none')\n",
    "ax.yaxis.set_ticks_position('none')\n",
    " \n",
    "ax.xaxis.set_tick_params(pad = 5)\n",
    "ax.yaxis.set_tick_params(pad = 10)\n",
    "ax.grid(b = True, color ='grey',\n",
    "        linestyle ='-.', linewidth = 0.15,\n",
    "        alpha = 0.2)\n",
    " \n",
    "\n",
    "ax.invert_yaxis()\n",
    " \n",
    "\n",
    "for i in ax.patches:\n",
    "    plt.text(i.get_width()+0.2, i.get_y()+0.5, \n",
    "             str(round((i.get_width()), 2)),\n",
    "             fontsize = 12, fontweight ='bold',\n",
    "             color ='grey')\n",
    "\n",
    "ax.set_title('Time taken', loc ='center', fontsize = 15, fontweight ='bold');"
   ]
  },
  {
   "cell_type": "markdown",
   "metadata": {
    "id": "pQQ8zL-9A2kN"
   },
   "source": [
    "## Save Results"
   ]
  },
  {
   "cell_type": "code",
   "execution_count": 51,
   "metadata": {
    "id": "SxaXYbMOCP9g"
   },
   "outputs": [
    {
     "data": {
      "image/png": "[encoded data removed]",
      "text/plain": [
       "<Figure size 1440x864 with 1 Axes>"
      ]
     },
     "metadata": {
      "needs_background": "light"
     },
     "output_type": "display_data"
    }
   ],
   "source": [
    "fig, ax = plt.subplots(figsize=(20, 12))\n",
    "\n",
    "ax.plot(np.arange(len(train_acc1)), train_acc1, lw=3, label='Test accuracy 1.0')\n",
    "ax.plot(np.arange(len(train_acc09)), train_acc09, lw=3, label='Test accurace 0.9')\n",
    "ax.plot(np.arange(len(train_acc11)), train_acc11, lw=3, label='Test accuracy 1.1')\n",
    "\n",
    "ax.set_xlabel('Epoch', fontsize=20)\n",
    "ax.set_ylabel('Accuracy', fontsize=20)\n",
    "\n",
    "plt.xticks(fontsize=18)\n",
    "plt.yticks(fontsize=18)\n",
    "\n",
    "ax.grid()\n",
    "ax.legend(fontsize=20);\n",
    "\n",
    "fig.savefig(images / 'accuracy_comarison.svg')"
   ]
  },
  {
   "cell_type": "markdown",
   "metadata": {
    "id": "1sDnw-5wBoOF"
   },
   "source": [
    "______________________________________________________________________________________________________________"
   ]
  },
  {
   "cell_type": "markdown",
   "metadata": {
    "id": "tJ8PhUv6A8kz"
   },
   "source": [
    "## Two more orders for checking effectiveness"
   ]
  },
  {
   "cell_type": "markdown",
   "metadata": {
    "id": "1g5qTq6VBS-2"
   },
   "source": [
    "### Model with order : 0.2"
   ]
  },
  {
   "cell_type": "code",
   "execution_count": 56,
   "metadata": {
    "colab": {
     "base_uri": "https://localhost:8080/"
    },
    "id": "1Tx1C0DqBDMI",
    "outputId": "fad83a37-5e28-4cb2-e56b-bba7a99ecec9"
   },
   "outputs": [
    {
     "name": "stdout",
     "output_type": "stream",
     "text": [
      "==============================================================================================================\n",
      "\n",
      "Fractional order traning for order of gradient = 0.2\n",
      "==============================================================================================================\n",
      "\n",
      "\n",
      "Epoch [0] Iteration [5000]: loss = 1.6390420221126218 accuracy = 0.435\n",
      "Epoch [0] Iteration [10000]: loss = 1.5001868424395461 accuracy = 0.505\n",
      "Epoch [0] Iteration [15000]: loss = 1.45725772794534 accuracy = 0.39\n",
      "Epoch [0] Iteration [20000]: loss = 1.4085124977216374 accuracy = 0.38\n",
      "Epoch [0] Iteration [25000]: loss = 1.3405662054516878 accuracy = 0.465\n",
      "Epoch [0] average_loss = 1.4737519976008655 average_accuracy = 0.4418020927295688\n",
      "Epoch [0] train_loss = 1.2753862299257117 train_accuracy = 0.4801989664884493\n",
      "Epoch [0] test_accuracy = 0.4796324907397452\n",
      "time : 37.10283899307251 seconds\n"
     ]
    }
   ],
   "source": [
    "# Traning  at order = 0.2\n",
    "time02 = time.time()\n",
    "\n",
    "layers, train_acc02, test_acc02, eploss02, ypred02  = FO_train_mini_batch(X_train, Y_train, X_test, Y_test, F02_initial_layers, batch_size=200, num_epoch=1, learning_rate=0.023, alpha =0.2)\n",
    "\n",
    "time102 = time.time()-time02\n",
    "\n",
    "print('time : {} seconds'.format(time102))"
   ]
  },
  {
   "cell_type": "markdown",
   "metadata": {
    "id": "TfaOBMpXBYZV"
   },
   "source": [
    "### Model with order : 1.7"
   ]
  },
  {
   "cell_type": "code",
   "execution_count": 58,
   "metadata": {
    "colab": {
     "base_uri": "https://localhost:8080/"
    },
    "id": "z6fe07EiBbtp",
    "outputId": "973f6a3f-c320-490e-d5a4-aefa7759af08"
   },
   "outputs": [
    {
     "name": "stdout",
     "output_type": "stream",
     "text": [
      "==============================================================================================================\n",
      "\n",
      "Fractional order traning for order of gradient = 1.7\n",
      "==============================================================================================================\n",
      "\n",
      "\n",
      "Epoch [0] Iteration [5000]: loss = 0.5554342536601342 accuracy = 0.815\n",
      "Epoch [0] Iteration [10000]: loss = 0.6095034025482369 accuracy = 0.73\n",
      "Epoch [0] Iteration [15000]: loss = 0.539554297592967 accuracy = 0.75\n",
      "Epoch [0] Iteration [20000]: loss = 0.5889866763446335 accuracy = 0.765\n",
      "Epoch [0] Iteration [25000]: loss = 0.6711784002302048 accuracy = 0.76\n",
      "Epoch [0] average_loss = 0.5615738240269044 average_accuracy = 0.7787656503698359\n",
      "Epoch [0] train_loss = 0.5501170633555841 train_accuracy = 0.7795875334924276\n",
      "Epoch [0] test_accuracy = 0.7794677437162685\n",
      "time : 43.33462595939636 seconds\n"
     ]
    }
   ],
   "source": [
    "time17 = time.time()\n",
    "# Train at order = 1.7\n",
    "layers, train_acc17, test_acc17, eploss17, ypred17  = FO_train_mini_batch(X_train, Y_train, X_test, Y_test, F17_initial_layers, batch_size=200, num_epoch=1, learning_rate=0.023, alpha= 1.7)\n",
    "\n",
    "time117= time.time() - time17\n",
    "\n",
    "print('time : {} seconds'.format(time117))"
   ]
  }
 ],
 "metadata": {
  "colab": {
   "collapsed_sections": [],
   "machine_shape": "hm",
   "name": "FINAL_SHAVII_ProjectNotebookIvan.ipynb",
   "provenance": [],
   "toc_visible": true
  },
  "kernelspec": {
   "display_name": "Python 3",
   "language": "python",
   "name": "python3"
  },
  "language_info": {
   "codemirror_mode": {
    "name": "ipython",
    "version": 3
   },
   "file_extension": ".py",
   "mimetype": "text/x-python",
   "name": "python",
   "nbconvert_exporter": "python",
   "pygments_lexer": "ipython3",
   "version": "3.8.8"
  }
 },
 "nbformat": 4,
 "nbformat_minor": 1
}
